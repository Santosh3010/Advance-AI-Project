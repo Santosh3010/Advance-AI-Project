{
  "nbformat": 4,
  "nbformat_minor": 0,
  "metadata": {
    "colab": {
      "name": "AAI Event Extraction",
      "provenance": [],
      "collapsed_sections": [],
      "authorship_tag": "ABX9TyOcDGcMQ+gN6mtbUxPCDXco",
      "include_colab_link": true
    },
    "kernelspec": {
      "name": "python3",
      "display_name": "Python 3"
    },
    "language_info": {
      "name": "python"
    }
  },
  "cells": [
    {
      "cell_type": "markdown",
      "metadata": {
        "id": "view-in-github",
        "colab_type": "text"
      },
      "source": [
        "<a href=\"https://colab.research.google.com/github/Santosh3010/Advance-AI-Project/blob/main/AAI_Event_Extraction.ipynb\" target=\"_parent\"><img src=\"https://colab.research.google.com/assets/colab-badge.svg\" alt=\"Open In Colab\"/></a>"
      ]
    },
    {
      "cell_type": "code",
      "execution_count": null,
      "metadata": {
        "id": "LR7RK-ejVF9D",
        "colab": {
          "base_uri": "https://localhost:8080/"
        },
        "outputId": "c691cfd4-1679-441e-974d-91966605aeba"
      },
      "outputs": [
        {
          "output_type": "stream",
          "name": "stdout",
          "text": [
            "[nltk_data] Downloading package stopwords to /root/nltk_data...\n",
            "[nltk_data]   Unzipping corpora/stopwords.zip.\n"
          ]
        }
      ],
      "source": [
        "#import the libraries\n",
        "import pandas as pd\n",
        "import numpy as np\n",
        "import matplotlib.pyplot as plt\n",
        "import seaborn as sns\n",
        "import re\n",
        "import nltk\n",
        "nltk.download('stopwords')\n",
        "from nltk.corpus import stopwords\n",
        "from nltk.stem.porter import PorterStemmer\n",
        "from sklearn.utils import resample\n",
        "\n",
        "#sklearn package \n",
        "from sklearn.model_selection import train_test_split\n",
        "from sklearn.feature_extraction.text import TfidfVectorizer\n",
        "from sklearn. preprocessing import LabelEncoder,StandardScaler\n",
        "from sklearn.decomposition import TruncatedSVD\n",
        "from sklearn.pipeline import Pipeline\n",
        "from sklearn.naive_bayes import ComplementNB,MultinomialNB,GaussianNB \n",
        "\n",
        "from sklearn.model_selection import cross_val_score\n",
        "from sklearn.model_selection import RepeatedStratifiedKFold\n",
        "from sklearn.svm import SVC\n",
        "from sklearn.linear_model import LogisticRegression\n",
        "from sklearn.model_selection import GridSearchCV\n",
        "\n",
        "from sklearn.ensemble import GradientBoostingClassifier\n",
        "\n",
        "#model evaluation\n",
        "from sklearn.metrics import accuracy_score,classification_report, confusion_matrix,recall_score,precision_score,f1_score\n"
      ]
    },
    {
      "cell_type": "code",
      "source": [
        "#read the dataset\n",
        "data = pd.read_json('News_Category_Dataset_v2.json',lines=True) # lines for avoid the trailing error\n",
        "column = data.columns\n",
        "column"
      ],
      "metadata": {
        "colab": {
          "base_uri": "https://localhost:8080/"
        },
        "id": "nLSGnmukfZyf",
        "outputId": "774e119c-eb24-465d-8feb-928ead7a08d0"
      },
      "execution_count": null,
      "outputs": [
        {
          "output_type": "execute_result",
          "data": {
            "text/plain": [
              "Index(['category', 'headline', 'authors', 'link', 'short_description', 'date'], dtype='object')"
            ]
          },
          "metadata": {},
          "execution_count": 5
        }
      ]
    },
    {
      "cell_type": "markdown",
      "source": [
        "### Little inspection on the data\n"
      ],
      "metadata": {
        "id": "_fW5OkvVf7DS"
      }
    },
    {
      "cell_type": "code",
      "source": [
        "data.head(5)"
      ],
      "metadata": {
        "colab": {
          "base_uri": "https://localhost:8080/",
          "height": 205
        },
        "id": "-tmpTBPxf3yP",
        "outputId": "05096d9b-e546-49e3-d6fb-3162bf9d1521"
      },
      "execution_count": null,
      "outputs": [
        {
          "output_type": "execute_result",
          "data": {
            "text/plain": [
              "        category                                           headline  \\\n",
              "0          CRIME  There Were 2 Mass Shootings In Texas Last Week...   \n",
              "1  ENTERTAINMENT  Will Smith Joins Diplo And Nicky Jam For The 2...   \n",
              "2  ENTERTAINMENT    Hugh Grant Marries For The First Time At Age 57   \n",
              "3  ENTERTAINMENT  Jim Carrey Blasts 'Castrato' Adam Schiff And D...   \n",
              "4  ENTERTAINMENT  Julianna Margulies Uses Donald Trump Poop Bags...   \n",
              "\n",
              "           authors                                               link  \\\n",
              "0  Melissa Jeltsen  https://www.huffingtonpost.com/entry/texas-ama...   \n",
              "1    Andy McDonald  https://www.huffingtonpost.com/entry/will-smit...   \n",
              "2       Ron Dicker  https://www.huffingtonpost.com/entry/hugh-gran...   \n",
              "3       Ron Dicker  https://www.huffingtonpost.com/entry/jim-carre...   \n",
              "4       Ron Dicker  https://www.huffingtonpost.com/entry/julianna-...   \n",
              "\n",
              "                                   short_description       date  \n",
              "0  She left her husband. He killed their children... 2018-05-26  \n",
              "1                           Of course it has a song. 2018-05-26  \n",
              "2  The actor and his longtime girlfriend Anna Ebe... 2018-05-26  \n",
              "3  The actor gives Dems an ass-kicking for not fi... 2018-05-26  \n",
              "4  The \"Dietland\" actress said using the bags is ... 2018-05-26  "
            ],
            "text/html": [
              "\n",
              "  <div id=\"df-d41f2e64-9481-436e-ac81-4b96e406e1cb\">\n",
              "    <div class=\"colab-df-container\">\n",
              "      <div>\n",
              "<style scoped>\n",
              "    .dataframe tbody tr th:only-of-type {\n",
              "        vertical-align: middle;\n",
              "    }\n",
              "\n",
              "    .dataframe tbody tr th {\n",
              "        vertical-align: top;\n",
              "    }\n",
              "\n",
              "    .dataframe thead th {\n",
              "        text-align: right;\n",
              "    }\n",
              "</style>\n",
              "<table border=\"1\" class=\"dataframe\">\n",
              "  <thead>\n",
              "    <tr style=\"text-align: right;\">\n",
              "      <th></th>\n",
              "      <th>category</th>\n",
              "      <th>headline</th>\n",
              "      <th>authors</th>\n",
              "      <th>link</th>\n",
              "      <th>short_description</th>\n",
              "      <th>date</th>\n",
              "    </tr>\n",
              "  </thead>\n",
              "  <tbody>\n",
              "    <tr>\n",
              "      <th>0</th>\n",
              "      <td>CRIME</td>\n",
              "      <td>There Were 2 Mass Shootings In Texas Last Week...</td>\n",
              "      <td>Melissa Jeltsen</td>\n",
              "      <td>https://www.huffingtonpost.com/entry/texas-ama...</td>\n",
              "      <td>She left her husband. He killed their children...</td>\n",
              "      <td>2018-05-26</td>\n",
              "    </tr>\n",
              "    <tr>\n",
              "      <th>1</th>\n",
              "      <td>ENTERTAINMENT</td>\n",
              "      <td>Will Smith Joins Diplo And Nicky Jam For The 2...</td>\n",
              "      <td>Andy McDonald</td>\n",
              "      <td>https://www.huffingtonpost.com/entry/will-smit...</td>\n",
              "      <td>Of course it has a song.</td>\n",
              "      <td>2018-05-26</td>\n",
              "    </tr>\n",
              "    <tr>\n",
              "      <th>2</th>\n",
              "      <td>ENTERTAINMENT</td>\n",
              "      <td>Hugh Grant Marries For The First Time At Age 57</td>\n",
              "      <td>Ron Dicker</td>\n",
              "      <td>https://www.huffingtonpost.com/entry/hugh-gran...</td>\n",
              "      <td>The actor and his longtime girlfriend Anna Ebe...</td>\n",
              "      <td>2018-05-26</td>\n",
              "    </tr>\n",
              "    <tr>\n",
              "      <th>3</th>\n",
              "      <td>ENTERTAINMENT</td>\n",
              "      <td>Jim Carrey Blasts 'Castrato' Adam Schiff And D...</td>\n",
              "      <td>Ron Dicker</td>\n",
              "      <td>https://www.huffingtonpost.com/entry/jim-carre...</td>\n",
              "      <td>The actor gives Dems an ass-kicking for not fi...</td>\n",
              "      <td>2018-05-26</td>\n",
              "    </tr>\n",
              "    <tr>\n",
              "      <th>4</th>\n",
              "      <td>ENTERTAINMENT</td>\n",
              "      <td>Julianna Margulies Uses Donald Trump Poop Bags...</td>\n",
              "      <td>Ron Dicker</td>\n",
              "      <td>https://www.huffingtonpost.com/entry/julianna-...</td>\n",
              "      <td>The \"Dietland\" actress said using the bags is ...</td>\n",
              "      <td>2018-05-26</td>\n",
              "    </tr>\n",
              "  </tbody>\n",
              "</table>\n",
              "</div>\n",
              "      <button class=\"colab-df-convert\" onclick=\"convertToInteractive('df-d41f2e64-9481-436e-ac81-4b96e406e1cb')\"\n",
              "              title=\"Convert this dataframe to an interactive table.\"\n",
              "              style=\"display:none;\">\n",
              "        \n",
              "  <svg xmlns=\"http://www.w3.org/2000/svg\" height=\"24px\"viewBox=\"0 0 24 24\"\n",
              "       width=\"24px\">\n",
              "    <path d=\"M0 0h24v24H0V0z\" fill=\"none\"/>\n",
              "    <path d=\"M18.56 5.44l.94 2.06.94-2.06 2.06-.94-2.06-.94-.94-2.06-.94 2.06-2.06.94zm-11 1L8.5 8.5l.94-2.06 2.06-.94-2.06-.94L8.5 2.5l-.94 2.06-2.06.94zm10 10l.94 2.06.94-2.06 2.06-.94-2.06-.94-.94-2.06-.94 2.06-2.06.94z\"/><path d=\"M17.41 7.96l-1.37-1.37c-.4-.4-.92-.59-1.43-.59-.52 0-1.04.2-1.43.59L10.3 9.45l-7.72 7.72c-.78.78-.78 2.05 0 2.83L4 21.41c.39.39.9.59 1.41.59.51 0 1.02-.2 1.41-.59l7.78-7.78 2.81-2.81c.8-.78.8-2.07 0-2.86zM5.41 20L4 18.59l7.72-7.72 1.47 1.35L5.41 20z\"/>\n",
              "  </svg>\n",
              "      </button>\n",
              "      \n",
              "  <style>\n",
              "    .colab-df-container {\n",
              "      display:flex;\n",
              "      flex-wrap:wrap;\n",
              "      gap: 12px;\n",
              "    }\n",
              "\n",
              "    .colab-df-convert {\n",
              "      background-color: #E8F0FE;\n",
              "      border: none;\n",
              "      border-radius: 50%;\n",
              "      cursor: pointer;\n",
              "      display: none;\n",
              "      fill: #1967D2;\n",
              "      height: 32px;\n",
              "      padding: 0 0 0 0;\n",
              "      width: 32px;\n",
              "    }\n",
              "\n",
              "    .colab-df-convert:hover {\n",
              "      background-color: #E2EBFA;\n",
              "      box-shadow: 0px 1px 2px rgba(60, 64, 67, 0.3), 0px 1px 3px 1px rgba(60, 64, 67, 0.15);\n",
              "      fill: #174EA6;\n",
              "    }\n",
              "\n",
              "    [theme=dark] .colab-df-convert {\n",
              "      background-color: #3B4455;\n",
              "      fill: #D2E3FC;\n",
              "    }\n",
              "\n",
              "    [theme=dark] .colab-df-convert:hover {\n",
              "      background-color: #434B5C;\n",
              "      box-shadow: 0px 1px 3px 1px rgba(0, 0, 0, 0.15);\n",
              "      filter: drop-shadow(0px 1px 2px rgba(0, 0, 0, 0.3));\n",
              "      fill: #FFFFFF;\n",
              "    }\n",
              "  </style>\n",
              "\n",
              "      <script>\n",
              "        const buttonEl =\n",
              "          document.querySelector('#df-d41f2e64-9481-436e-ac81-4b96e406e1cb button.colab-df-convert');\n",
              "        buttonEl.style.display =\n",
              "          google.colab.kernel.accessAllowed ? 'block' : 'none';\n",
              "\n",
              "        async function convertToInteractive(key) {\n",
              "          const element = document.querySelector('#df-d41f2e64-9481-436e-ac81-4b96e406e1cb');\n",
              "          const dataTable =\n",
              "            await google.colab.kernel.invokeFunction('convertToInteractive',\n",
              "                                                     [key], {});\n",
              "          if (!dataTable) return;\n",
              "\n",
              "          const docLinkHtml = 'Like what you see? Visit the ' +\n",
              "            '<a target=\"_blank\" href=https://colab.research.google.com/notebooks/data_table.ipynb>data table notebook</a>'\n",
              "            + ' to learn more about interactive tables.';\n",
              "          element.innerHTML = '';\n",
              "          dataTable['output_type'] = 'display_data';\n",
              "          await google.colab.output.renderOutput(dataTable, element);\n",
              "          const docLink = document.createElement('div');\n",
              "          docLink.innerHTML = docLinkHtml;\n",
              "          element.appendChild(docLink);\n",
              "        }\n",
              "      </script>\n",
              "    </div>\n",
              "  </div>\n",
              "  "
            ]
          },
          "metadata": {},
          "execution_count": 6
        }
      ]
    },
    {
      "cell_type": "code",
      "source": [
        "#delete the dublicate values\n",
        "data.duplicated().sum() # count the total duplicate samples"
      ],
      "metadata": {
        "colab": {
          "base_uri": "https://localhost:8080/"
        },
        "id": "vxDwq5qaf-kt",
        "outputId": "7dc79ef5-99d9-4bed-a583-8651341c32d7"
      },
      "execution_count": null,
      "outputs": [
        {
          "output_type": "execute_result",
          "data": {
            "text/plain": [
              "13"
            ]
          },
          "metadata": {},
          "execution_count": 8
        }
      ]
    },
    {
      "cell_type": "code",
      "source": [
        "#there can be dublicate of author names so check for the dublicate headline and short discription\n",
        "data.duplicated(subset=['headline', 'short_description']).sum()"
      ],
      "metadata": {
        "colab": {
          "base_uri": "https://localhost:8080/"
        },
        "id": "Henr5CzCg1DM",
        "outputId": "c8f582be-1f33-4c9a-fc40-0505c9975ccb"
      },
      "execution_count": null,
      "outputs": [
        {
          "output_type": "execute_result",
          "data": {
            "text/plain": [
              "488"
            ]
          },
          "metadata": {},
          "execution_count": 9
        }
      ]
    },
    {
      "cell_type": "code",
      "source": [
        "data.drop_duplicates(subset=['headline', 'short_description'],inplace=True,keep='last')"
      ],
      "metadata": {
        "id": "d0Q_8z2yhBkz"
      },
      "execution_count": null,
      "outputs": []
    },
    {
      "cell_type": "code",
      "source": [
        "data.describe()"
      ],
      "metadata": {
        "colab": {
          "base_uri": "https://localhost:8080/",
          "height": 292
        },
        "id": "spYt_-sAhD_z",
        "outputId": "528abb8a-abf0-4968-d080-22df96f977ea"
      },
      "execution_count": null,
      "outputs": [
        {
          "output_type": "stream",
          "name": "stderr",
          "text": [
            "/usr/local/lib/python3.7/dist-packages/ipykernel_launcher.py:1: FutureWarning: Treating datetime data as categorical rather than numeric in `.describe` is deprecated and will be removed in a future version of pandas. Specify `datetime_is_numeric=True` to silence this warning and adopt the future behavior now.\n",
            "  \"\"\"Entry point for launching an IPython kernel.\n"
          ]
        },
        {
          "output_type": "execute_result",
          "data": {
            "text/plain": [
              "        category        headline authors  \\\n",
              "count     200365          200365  200365   \n",
              "unique        41          199344   27986   \n",
              "top     POLITICS  Sunday Roundup           \n",
              "freq       32719              90   36514   \n",
              "first        NaN             NaN     NaN   \n",
              "last         NaN             NaN     NaN   \n",
              "\n",
              "                                                     link short_description  \\\n",
              "count                                              200365            200365   \n",
              "unique                                             200341            178353   \n",
              "top     https://www.huffingtonpost.comhttp://testkitch...                     \n",
              "freq                                                    2             19611   \n",
              "first                                                 NaN               NaN   \n",
              "last                                                  NaN               NaN   \n",
              "\n",
              "                       date  \n",
              "count                200365  \n",
              "unique                 2309  \n",
              "top     2012-07-18 00:00:00  \n",
              "freq                    100  \n",
              "first   2012-01-28 00:00:00  \n",
              "last    2018-05-26 00:00:00  "
            ],
            "text/html": [
              "\n",
              "  <div id=\"df-f902c6a9-593f-4185-b7ae-578d50ee2df1\">\n",
              "    <div class=\"colab-df-container\">\n",
              "      <div>\n",
              "<style scoped>\n",
              "    .dataframe tbody tr th:only-of-type {\n",
              "        vertical-align: middle;\n",
              "    }\n",
              "\n",
              "    .dataframe tbody tr th {\n",
              "        vertical-align: top;\n",
              "    }\n",
              "\n",
              "    .dataframe thead th {\n",
              "        text-align: right;\n",
              "    }\n",
              "</style>\n",
              "<table border=\"1\" class=\"dataframe\">\n",
              "  <thead>\n",
              "    <tr style=\"text-align: right;\">\n",
              "      <th></th>\n",
              "      <th>category</th>\n",
              "      <th>headline</th>\n",
              "      <th>authors</th>\n",
              "      <th>link</th>\n",
              "      <th>short_description</th>\n",
              "      <th>date</th>\n",
              "    </tr>\n",
              "  </thead>\n",
              "  <tbody>\n",
              "    <tr>\n",
              "      <th>count</th>\n",
              "      <td>200365</td>\n",
              "      <td>200365</td>\n",
              "      <td>200365</td>\n",
              "      <td>200365</td>\n",
              "      <td>200365</td>\n",
              "      <td>200365</td>\n",
              "    </tr>\n",
              "    <tr>\n",
              "      <th>unique</th>\n",
              "      <td>41</td>\n",
              "      <td>199344</td>\n",
              "      <td>27986</td>\n",
              "      <td>200341</td>\n",
              "      <td>178353</td>\n",
              "      <td>2309</td>\n",
              "    </tr>\n",
              "    <tr>\n",
              "      <th>top</th>\n",
              "      <td>POLITICS</td>\n",
              "      <td>Sunday Roundup</td>\n",
              "      <td></td>\n",
              "      <td>https://www.huffingtonpost.comhttp://testkitch...</td>\n",
              "      <td></td>\n",
              "      <td>2012-07-18 00:00:00</td>\n",
              "    </tr>\n",
              "    <tr>\n",
              "      <th>freq</th>\n",
              "      <td>32719</td>\n",
              "      <td>90</td>\n",
              "      <td>36514</td>\n",
              "      <td>2</td>\n",
              "      <td>19611</td>\n",
              "      <td>100</td>\n",
              "    </tr>\n",
              "    <tr>\n",
              "      <th>first</th>\n",
              "      <td>NaN</td>\n",
              "      <td>NaN</td>\n",
              "      <td>NaN</td>\n",
              "      <td>NaN</td>\n",
              "      <td>NaN</td>\n",
              "      <td>2012-01-28 00:00:00</td>\n",
              "    </tr>\n",
              "    <tr>\n",
              "      <th>last</th>\n",
              "      <td>NaN</td>\n",
              "      <td>NaN</td>\n",
              "      <td>NaN</td>\n",
              "      <td>NaN</td>\n",
              "      <td>NaN</td>\n",
              "      <td>2018-05-26 00:00:00</td>\n",
              "    </tr>\n",
              "  </tbody>\n",
              "</table>\n",
              "</div>\n",
              "      <button class=\"colab-df-convert\" onclick=\"convertToInteractive('df-f902c6a9-593f-4185-b7ae-578d50ee2df1')\"\n",
              "              title=\"Convert this dataframe to an interactive table.\"\n",
              "              style=\"display:none;\">\n",
              "        \n",
              "  <svg xmlns=\"http://www.w3.org/2000/svg\" height=\"24px\"viewBox=\"0 0 24 24\"\n",
              "       width=\"24px\">\n",
              "    <path d=\"M0 0h24v24H0V0z\" fill=\"none\"/>\n",
              "    <path d=\"M18.56 5.44l.94 2.06.94-2.06 2.06-.94-2.06-.94-.94-2.06-.94 2.06-2.06.94zm-11 1L8.5 8.5l.94-2.06 2.06-.94-2.06-.94L8.5 2.5l-.94 2.06-2.06.94zm10 10l.94 2.06.94-2.06 2.06-.94-2.06-.94-.94-2.06-.94 2.06-2.06.94z\"/><path d=\"M17.41 7.96l-1.37-1.37c-.4-.4-.92-.59-1.43-.59-.52 0-1.04.2-1.43.59L10.3 9.45l-7.72 7.72c-.78.78-.78 2.05 0 2.83L4 21.41c.39.39.9.59 1.41.59.51 0 1.02-.2 1.41-.59l7.78-7.78 2.81-2.81c.8-.78.8-2.07 0-2.86zM5.41 20L4 18.59l7.72-7.72 1.47 1.35L5.41 20z\"/>\n",
              "  </svg>\n",
              "      </button>\n",
              "      \n",
              "  <style>\n",
              "    .colab-df-container {\n",
              "      display:flex;\n",
              "      flex-wrap:wrap;\n",
              "      gap: 12px;\n",
              "    }\n",
              "\n",
              "    .colab-df-convert {\n",
              "      background-color: #E8F0FE;\n",
              "      border: none;\n",
              "      border-radius: 50%;\n",
              "      cursor: pointer;\n",
              "      display: none;\n",
              "      fill: #1967D2;\n",
              "      height: 32px;\n",
              "      padding: 0 0 0 0;\n",
              "      width: 32px;\n",
              "    }\n",
              "\n",
              "    .colab-df-convert:hover {\n",
              "      background-color: #E2EBFA;\n",
              "      box-shadow: 0px 1px 2px rgba(60, 64, 67, 0.3), 0px 1px 3px 1px rgba(60, 64, 67, 0.15);\n",
              "      fill: #174EA6;\n",
              "    }\n",
              "\n",
              "    [theme=dark] .colab-df-convert {\n",
              "      background-color: #3B4455;\n",
              "      fill: #D2E3FC;\n",
              "    }\n",
              "\n",
              "    [theme=dark] .colab-df-convert:hover {\n",
              "      background-color: #434B5C;\n",
              "      box-shadow: 0px 1px 3px 1px rgba(0, 0, 0, 0.15);\n",
              "      filter: drop-shadow(0px 1px 2px rgba(0, 0, 0, 0.3));\n",
              "      fill: #FFFFFF;\n",
              "    }\n",
              "  </style>\n",
              "\n",
              "      <script>\n",
              "        const buttonEl =\n",
              "          document.querySelector('#df-f902c6a9-593f-4185-b7ae-578d50ee2df1 button.colab-df-convert');\n",
              "        buttonEl.style.display =\n",
              "          google.colab.kernel.accessAllowed ? 'block' : 'none';\n",
              "\n",
              "        async function convertToInteractive(key) {\n",
              "          const element = document.querySelector('#df-f902c6a9-593f-4185-b7ae-578d50ee2df1');\n",
              "          const dataTable =\n",
              "            await google.colab.kernel.invokeFunction('convertToInteractive',\n",
              "                                                     [key], {});\n",
              "          if (!dataTable) return;\n",
              "\n",
              "          const docLinkHtml = 'Like what you see? Visit the ' +\n",
              "            '<a target=\"_blank\" href=https://colab.research.google.com/notebooks/data_table.ipynb>data table notebook</a>'\n",
              "            + ' to learn more about interactive tables.';\n",
              "          element.innerHTML = '';\n",
              "          dataTable['output_type'] = 'display_data';\n",
              "          await google.colab.output.renderOutput(dataTable, element);\n",
              "          const docLink = document.createElement('div');\n",
              "          docLink.innerHTML = docLinkHtml;\n",
              "          element.appendChild(docLink);\n",
              "        }\n",
              "      </script>\n",
              "    </div>\n",
              "  </div>\n",
              "  "
            ]
          },
          "metadata": {},
          "execution_count": 11
        }
      ]
    },
    {
      "cell_type": "code",
      "source": [
        ""
      ],
      "metadata": {
        "id": "X-wP5_UAhI-r"
      },
      "execution_count": null,
      "outputs": []
    },
    {
      "cell_type": "markdown",
      "source": [
        "#Handling null data\n"
      ],
      "metadata": {
        "id": "23LFS9GIhJbr"
      }
    },
    {
      "cell_type": "code",
      "source": [
        "data.isnull().sum()"
      ],
      "metadata": {
        "colab": {
          "base_uri": "https://localhost:8080/"
        },
        "id": "K9VkO55PhKqI",
        "outputId": "8cd9d787-2be7-45f1-d3df-ab7a44fe887e"
      },
      "execution_count": null,
      "outputs": [
        {
          "output_type": "execute_result",
          "data": {
            "text/plain": [
              "category             0\n",
              "headline             0\n",
              "authors              0\n",
              "link                 0\n",
              "short_description    0\n",
              "date                 0\n",
              "dtype: int64"
            ]
          },
          "metadata": {},
          "execution_count": 12
        }
      ]
    },
    {
      "cell_type": "code",
      "source": [
        "# there is no null value instead of null they are blank so we need to check for the blank placess and delete that\n",
        "data[data['headline'] == '']"
      ],
      "metadata": {
        "colab": {
          "base_uri": "https://localhost:8080/",
          "height": 112
        },
        "id": "-j-CcAhShNlE",
        "outputId": "4bd2a372-367c-4110-d980-013fcd9827c3"
      },
      "execution_count": null,
      "outputs": [
        {
          "output_type": "execute_result",
          "data": {
            "text/plain": [
              "            category headline  \\\n",
              "86893       RELIGION            \n",
              "113471  QUEER VOICES            \n",
              "\n",
              "                                                  authors  \\\n",
              "86893   Matthew Fox, ContributorRadical theologian Mat...   \n",
              "113471  Gary Snyder, ContributorWriter and Media Strat...   \n",
              "\n",
              "                                                     link  \\\n",
              "86893   https://www.huffingtonpost.com/entry/post_9671...   \n",
              "113471  https://www.huffingtonpost.com/entry/beverly-h...   \n",
              "\n",
              "                                        short_description       date  \n",
              "86893   Let everyone not wrapped in tired and disprove... 2015-06-30  \n",
              "113471                                                    2014-08-28  "
            ],
            "text/html": [
              "\n",
              "  <div id=\"df-90115429-4e7a-4124-82ba-72d441487149\">\n",
              "    <div class=\"colab-df-container\">\n",
              "      <div>\n",
              "<style scoped>\n",
              "    .dataframe tbody tr th:only-of-type {\n",
              "        vertical-align: middle;\n",
              "    }\n",
              "\n",
              "    .dataframe tbody tr th {\n",
              "        vertical-align: top;\n",
              "    }\n",
              "\n",
              "    .dataframe thead th {\n",
              "        text-align: right;\n",
              "    }\n",
              "</style>\n",
              "<table border=\"1\" class=\"dataframe\">\n",
              "  <thead>\n",
              "    <tr style=\"text-align: right;\">\n",
              "      <th></th>\n",
              "      <th>category</th>\n",
              "      <th>headline</th>\n",
              "      <th>authors</th>\n",
              "      <th>link</th>\n",
              "      <th>short_description</th>\n",
              "      <th>date</th>\n",
              "    </tr>\n",
              "  </thead>\n",
              "  <tbody>\n",
              "    <tr>\n",
              "      <th>86893</th>\n",
              "      <td>RELIGION</td>\n",
              "      <td></td>\n",
              "      <td>Matthew Fox, ContributorRadical theologian Mat...</td>\n",
              "      <td>https://www.huffingtonpost.com/entry/post_9671...</td>\n",
              "      <td>Let everyone not wrapped in tired and disprove...</td>\n",
              "      <td>2015-06-30</td>\n",
              "    </tr>\n",
              "    <tr>\n",
              "      <th>113471</th>\n",
              "      <td>QUEER VOICES</td>\n",
              "      <td></td>\n",
              "      <td>Gary Snyder, ContributorWriter and Media Strat...</td>\n",
              "      <td>https://www.huffingtonpost.com/entry/beverly-h...</td>\n",
              "      <td></td>\n",
              "      <td>2014-08-28</td>\n",
              "    </tr>\n",
              "  </tbody>\n",
              "</table>\n",
              "</div>\n",
              "      <button class=\"colab-df-convert\" onclick=\"convertToInteractive('df-90115429-4e7a-4124-82ba-72d441487149')\"\n",
              "              title=\"Convert this dataframe to an interactive table.\"\n",
              "              style=\"display:none;\">\n",
              "        \n",
              "  <svg xmlns=\"http://www.w3.org/2000/svg\" height=\"24px\"viewBox=\"0 0 24 24\"\n",
              "       width=\"24px\">\n",
              "    <path d=\"M0 0h24v24H0V0z\" fill=\"none\"/>\n",
              "    <path d=\"M18.56 5.44l.94 2.06.94-2.06 2.06-.94-2.06-.94-.94-2.06-.94 2.06-2.06.94zm-11 1L8.5 8.5l.94-2.06 2.06-.94-2.06-.94L8.5 2.5l-.94 2.06-2.06.94zm10 10l.94 2.06.94-2.06 2.06-.94-2.06-.94-.94-2.06-.94 2.06-2.06.94z\"/><path d=\"M17.41 7.96l-1.37-1.37c-.4-.4-.92-.59-1.43-.59-.52 0-1.04.2-1.43.59L10.3 9.45l-7.72 7.72c-.78.78-.78 2.05 0 2.83L4 21.41c.39.39.9.59 1.41.59.51 0 1.02-.2 1.41-.59l7.78-7.78 2.81-2.81c.8-.78.8-2.07 0-2.86zM5.41 20L4 18.59l7.72-7.72 1.47 1.35L5.41 20z\"/>\n",
              "  </svg>\n",
              "      </button>\n",
              "      \n",
              "  <style>\n",
              "    .colab-df-container {\n",
              "      display:flex;\n",
              "      flex-wrap:wrap;\n",
              "      gap: 12px;\n",
              "    }\n",
              "\n",
              "    .colab-df-convert {\n",
              "      background-color: #E8F0FE;\n",
              "      border: none;\n",
              "      border-radius: 50%;\n",
              "      cursor: pointer;\n",
              "      display: none;\n",
              "      fill: #1967D2;\n",
              "      height: 32px;\n",
              "      padding: 0 0 0 0;\n",
              "      width: 32px;\n",
              "    }\n",
              "\n",
              "    .colab-df-convert:hover {\n",
              "      background-color: #E2EBFA;\n",
              "      box-shadow: 0px 1px 2px rgba(60, 64, 67, 0.3), 0px 1px 3px 1px rgba(60, 64, 67, 0.15);\n",
              "      fill: #174EA6;\n",
              "    }\n",
              "\n",
              "    [theme=dark] .colab-df-convert {\n",
              "      background-color: #3B4455;\n",
              "      fill: #D2E3FC;\n",
              "    }\n",
              "\n",
              "    [theme=dark] .colab-df-convert:hover {\n",
              "      background-color: #434B5C;\n",
              "      box-shadow: 0px 1px 3px 1px rgba(0, 0, 0, 0.15);\n",
              "      filter: drop-shadow(0px 1px 2px rgba(0, 0, 0, 0.3));\n",
              "      fill: #FFFFFF;\n",
              "    }\n",
              "  </style>\n",
              "\n",
              "      <script>\n",
              "        const buttonEl =\n",
              "          document.querySelector('#df-90115429-4e7a-4124-82ba-72d441487149 button.colab-df-convert');\n",
              "        buttonEl.style.display =\n",
              "          google.colab.kernel.accessAllowed ? 'block' : 'none';\n",
              "\n",
              "        async function convertToInteractive(key) {\n",
              "          const element = document.querySelector('#df-90115429-4e7a-4124-82ba-72d441487149');\n",
              "          const dataTable =\n",
              "            await google.colab.kernel.invokeFunction('convertToInteractive',\n",
              "                                                     [key], {});\n",
              "          if (!dataTable) return;\n",
              "\n",
              "          const docLinkHtml = 'Like what you see? Visit the ' +\n",
              "            '<a target=\"_blank\" href=https://colab.research.google.com/notebooks/data_table.ipynb>data table notebook</a>'\n",
              "            + ' to learn more about interactive tables.';\n",
              "          element.innerHTML = '';\n",
              "          dataTable['output_type'] = 'display_data';\n",
              "          await google.colab.output.renderOutput(dataTable, element);\n",
              "          const docLink = document.createElement('div');\n",
              "          docLink.innerHTML = docLinkHtml;\n",
              "          element.appendChild(docLink);\n",
              "        }\n",
              "      </script>\n",
              "    </div>\n",
              "  </div>\n",
              "  "
            ]
          },
          "metadata": {},
          "execution_count": 13
        }
      ]
    },
    {
      "cell_type": "code",
      "source": [
        "# drop the blank values\n",
        "headline_blank = data['headline'] == ''\n",
        "data = data[~headline_blank]\n",
        "print(\"THe length of the datset ------>\",data.shape)"
      ],
      "metadata": {
        "colab": {
          "base_uri": "https://localhost:8080/"
        },
        "id": "c0mj0n1nhTZP",
        "outputId": "8e02d592-1c5c-4f2a-d811-ed1fd52b9678"
      },
      "execution_count": null,
      "outputs": [
        {
          "output_type": "stream",
          "name": "stdout",
          "text": [
            "THe length of the datset ------> (200363, 6)\n"
          ]
        }
      ]
    },
    {
      "cell_type": "code",
      "source": [
        "#drop the blank short describtion column\n",
        "description_blank = data['short_description']==''\n",
        "print(\"the lenth of the blank description samples----->\",len(data[description_blank]))\n",
        "data = data[~description_blank]\n",
        "print(\"THe length of the datset ---------------------->\",data.shape)"
      ],
      "metadata": {
        "colab": {
          "base_uri": "https://localhost:8080/"
        },
        "id": "E9tJSewWhXpC",
        "outputId": "10c54c0c-74cf-4783-cf81-a8b8e793690b"
      },
      "execution_count": null,
      "outputs": [
        {
          "output_type": "stream",
          "name": "stdout",
          "text": [
            "the lenth of the blank description samples-----> 19610\n",
            "THe length of the datset ----------------------> (180753, 6)\n"
          ]
        }
      ]
    },
    {
      "cell_type": "code",
      "source": [
        ""
      ],
      "metadata": {
        "id": "-M3o4eYyhZyF"
      },
      "execution_count": null,
      "outputs": []
    },
    {
      "cell_type": "markdown",
      "source": [
        "### Balance the Category Data\n"
      ],
      "metadata": {
        "id": "fo1GzS4-hh75"
      }
    },
    {
      "cell_type": "code",
      "source": [
        "category = data['category'].value_counts()\n",
        "list(category.index)"
      ],
      "metadata": {
        "colab": {
          "base_uri": "https://localhost:8080/"
        },
        "id": "EnijuIZmhm3a",
        "outputId": "1188d587-39a3-41de-997d-dbc40115d5fe"
      },
      "execution_count": null,
      "outputs": [
        {
          "output_type": "execute_result",
          "data": {
            "text/plain": [
              "['POLITICS',\n",
              " 'WELLNESS',\n",
              " 'ENTERTAINMENT',\n",
              " 'STYLE & BEAUTY',\n",
              " 'TRAVEL',\n",
              " 'PARENTING',\n",
              " 'FOOD & DRINK',\n",
              " 'QUEER VOICES',\n",
              " 'HEALTHY LIVING',\n",
              " 'BUSINESS',\n",
              " 'COMEDY',\n",
              " 'SPORTS',\n",
              " 'HOME & LIVING',\n",
              " 'BLACK VOICES',\n",
              " 'THE WORLDPOST',\n",
              " 'WEDDINGS',\n",
              " 'PARENTS',\n",
              " 'DIVORCE',\n",
              " 'IMPACT',\n",
              " 'WOMEN',\n",
              " 'CRIME',\n",
              " 'MEDIA',\n",
              " 'WEIRD NEWS',\n",
              " 'WORLD NEWS',\n",
              " 'GREEN',\n",
              " 'TECH',\n",
              " 'TASTE',\n",
              " 'RELIGION',\n",
              " 'SCIENCE',\n",
              " 'MONEY',\n",
              " 'STYLE',\n",
              " 'ARTS & CULTURE',\n",
              " 'ENVIRONMENT',\n",
              " 'WORLDPOST',\n",
              " 'FIFTY',\n",
              " 'GOOD NEWS',\n",
              " 'LATINO VOICES',\n",
              " 'CULTURE & ARTS',\n",
              " 'COLLEGE',\n",
              " 'EDUCATION',\n",
              " 'ARTS']"
            ]
          },
          "metadata": {},
          "execution_count": 16
        }
      ]
    },
    {
      "cell_type": "code",
      "source": [
        "cateo_keep = (data['category'] == 'POLITICS') | (data['category'] == 'WELLNESS' )| (data['category'] == 'ENTERTAINMENT') | (data['category'] == 'TRAVEL') | \\\n",
        "            (data['category'] == 'STYLE & BEAUTY') | (data['category'] == 'PARENTING' )| (data['category'] == 'HEALTHY LIVING') | (data['category'] == 'QUEER VOICES') | \\\n",
        "              (data['category'] == 'FOOD & DRINK') | (data['category'] == 'BUSINESS' )| (data['category'] == 'COMEDY') | (data['category'] == 'PARENTS') | (data['category'] == 'SPORTS') | (data['category'] == 'HOME & LIVING' )| (data['category'] == 'BLACK VOICES')\n",
        "data = data[cateo_keep]\n",
        "\n"
      ],
      "metadata": {
        "id": "4W5Wjutrhn9T"
      },
      "execution_count": null,
      "outputs": []
    },
    {
      "cell_type": "code",
      "source": [
        "cateo_keep"
      ],
      "metadata": {
        "colab": {
          "base_uri": "https://localhost:8080/"
        },
        "id": "B7Hd4E2Qh5Oi",
        "outputId": "5423d924-97be-4541-dcd4-c34f83aa3131"
      },
      "execution_count": null,
      "outputs": [
        {
          "output_type": "execute_result",
          "data": {
            "text/plain": [
              "0         False\n",
              "1          True\n",
              "2          True\n",
              "3          True\n",
              "4          True\n",
              "          ...  \n",
              "200848    False\n",
              "200849     True\n",
              "200850     True\n",
              "200851     True\n",
              "200852     True\n",
              "Name: category, Length: 180753, dtype: bool"
            ]
          },
          "metadata": {},
          "execution_count": 18
        }
      ]
    },
    {
      "cell_type": "code",
      "source": [
        "cateo_keep = (data['category'] == 'POLITICS') | (data['category'] == 'WELLNESS' )| (data['category'] == 'ENTERTAINMENT') | (data['category'] == 'TRAVEL') | \\\n",
        "            (data['category'] == 'STYLE & BEAUTY') | (data['category'] == 'PARENTING' )| (data['category'] == 'HEALTHY LIVING') | (data['category'] == 'QUEER VOICES') | \\\n",
        "              (data['category'] == 'FOOD & DRINK') | (data['category'] == 'BUSINESS' )| (data['category'] == 'COMEDY') | (data['category'] == 'PARENTS') | (data['category'] == 'SPORTS') | (data['category'] == 'HOME & LIVING' )| (data['category'] == 'BLACK VOICES')\n",
        "data = data[cateo_keep]\n",
        "\n"
      ],
      "metadata": {
        "id": "4Akovo2FiEar"
      },
      "execution_count": null,
      "outputs": []
    },
    {
      "cell_type": "code",
      "source": [
        "data_1 = data[data['category'] == 'POLITICS']\n",
        "data_1 = resample(data_1, replace=False, n_samples=3000, random_state=123)\n",
        "data_2 = data[data['category'] == 'WELLNESS']\n",
        "data_2 = resample(data_2, replace=False, n_samples=3000, random_state=123)\n",
        "data_3 = data[data['category'] == 'ENTERTAINMENT']\n",
        "data_3 = resample(data_3, replace=False, n_samples=3000, random_state=123)\n",
        "data_4 = data[data['category'] == 'TRAVEL']\n",
        "data_4 = resample(data_4, replace=False, n_samples=3000, random_state=123)\n",
        "data_5 = data[data['category'] == 'STYLE & BEAUTY']\n",
        "data_5 = resample(data_5, replace=False, n_samples=3000, random_state=123)\n",
        "data_6 = data[data['category'] == 'PARENTING']\n",
        "data_6 = resample(data_6, replace=False, n_samples=3000, random_state=123)\n",
        "data_7 = data[data['category'] == 'HEALTHY LIVING']\n",
        "data_7 = resample(data_7, replace=False, n_samples=3000, random_state=123)\n",
        "data_8 = data[data['category'] == 'QUEER VOICES']\n",
        "data_8 = resample(data_8, replace=False, n_samples=3000, random_state=123)\n",
        "data_9 = data[data['category'] == 'FOOD & DRINK']\n",
        "data_9 = resample(data_9, replace=False, n_samples=3000, random_state=123)\n",
        "data_10 = data[data['category'] == 'BUSINESS']\n",
        "data_10 = resample(data_10, replace=False, n_samples=3000, random_state=123)\n",
        "data_11 = data[data['category'] == 'COMEDY']\n",
        "data_11 = resample(data_11, replace=False, n_samples=3000, random_state=123)\n",
        "data_12= data[data['category'] == 'PARENTS']\n",
        "data_12 = resample(data_12, replace=False, n_samples=3000, random_state=123)\n",
        "data_13= data[data['category'] == 'SPORTS']\n",
        "data_13 = resample(data_13, replace=False, n_samples=3000, random_state=123)\n",
        "data_14 = data[data['category'] == 'HOME & LIVING']\n",
        "data_14 = resample(data_14, replace=False, n_samples=3000, random_state=123)\n",
        "data_15 = data[data['category'] == 'BLACK VOICES']\n",
        "data_15 = resample(data_15, replace=False, n_samples=3000, random_state=123)\n",
        "\n",
        "cato_list = [data_1 , data_2 , data_3 , data_4 ,data_5 , data_6 , data_7, data_8 , data_9 , data_10, data_11 , data_12 , data_13, data_14 ,data_15]\n",
        "\n",
        "data = pd.concat(cato_list)\n",
        "data['category'].value_counts()"
      ],
      "metadata": {
        "colab": {
          "base_uri": "https://localhost:8080/"
        },
        "id": "b76GYOSZiG9D",
        "outputId": "d822bc23-63fa-457a-a3a1-d240608cb5dd"
      },
      "execution_count": null,
      "outputs": [
        {
          "output_type": "execute_result",
          "data": {
            "text/plain": [
              "POLITICS          3000\n",
              "WELLNESS          3000\n",
              "ENTERTAINMENT     3000\n",
              "TRAVEL            3000\n",
              "STYLE & BEAUTY    3000\n",
              "PARENTING         3000\n",
              "HEALTHY LIVING    3000\n",
              "QUEER VOICES      3000\n",
              "FOOD & DRINK      3000\n",
              "BUSINESS          3000\n",
              "COMEDY            3000\n",
              "PARENTS           3000\n",
              "SPORTS            3000\n",
              "HOME & LIVING     3000\n",
              "BLACK VOICES      3000\n",
              "Name: category, dtype: int64"
            ]
          },
          "metadata": {},
          "execution_count": 20
        }
      ]
    },
    {
      "cell_type": "code",
      "source": [
        "data.head(5)"
      ],
      "metadata": {
        "colab": {
          "base_uri": "https://localhost:8080/",
          "height": 205
        },
        "id": "ujQdHQj0iNBg",
        "outputId": "e2206297-5af3-41f5-a063-3d4760891ae8"
      },
      "execution_count": null,
      "outputs": [
        {
          "output_type": "execute_result",
          "data": {
            "text/plain": [
              "        category                                           headline  \\\n",
              "77976   POLITICS  Republican Activists Increasingly Favor Outsid...   \n",
              "46953   POLITICS  A Crooked Wall Street Billionaire Is Crafting ...   \n",
              "356     POLITICS  GOP Candidate Set Up Trust That Pays His Kids ...   \n",
              "106292  POLITICS  The U.S. Isn't in the Business of Bigotry, Are...   \n",
              "67266   POLITICS  Bernie Sanders On 'SNL' Is Everything We Hoped...   \n",
              "\n",
              "                                                  authors  \\\n",
              "77976              Mark Blumenthal and Ariel Edwards-Levy   \n",
              "46953                                         Zach Carter   \n",
              "356                                        Mary Papenfuss   \n",
              "106292  Terry O'Neill, ContributorPresident, National ...   \n",
              "67266                                      Paige Lavender   \n",
              "\n",
              "                                                     link  \\\n",
              "77976   https://www.huffingtonpost.com/entry/republica...   \n",
              "46953   https://www.huffingtonpost.com/entry/a-crooked...   \n",
              "356     https://www.huffingtonpost.com/entry/vickers-c...   \n",
              "106292  https://www.huffingtonpost.com/entry/the-us-do...   \n",
              "67266   https://www.huffingtonpost.com/entry/bernie-sa...   \n",
              "\n",
              "                                        short_description       date  \n",
              "77976   Is this election an anomaly, or will the party... 2015-10-09  \n",
              "46953                                            Hoo boy. 2016-09-26  \n",
              "356     Even his own mom calls him a bigot, but former... 2018-05-19  \n",
              "106292  Birth control is life-saving, life-affirming h... 2014-11-19  \n",
              "67266                                            Amazing. 2016-02-07  "
            ],
            "text/html": [
              "\n",
              "  <div id=\"df-3ce55292-116c-496f-8799-229fd2404b1c\">\n",
              "    <div class=\"colab-df-container\">\n",
              "      <div>\n",
              "<style scoped>\n",
              "    .dataframe tbody tr th:only-of-type {\n",
              "        vertical-align: middle;\n",
              "    }\n",
              "\n",
              "    .dataframe tbody tr th {\n",
              "        vertical-align: top;\n",
              "    }\n",
              "\n",
              "    .dataframe thead th {\n",
              "        text-align: right;\n",
              "    }\n",
              "</style>\n",
              "<table border=\"1\" class=\"dataframe\">\n",
              "  <thead>\n",
              "    <tr style=\"text-align: right;\">\n",
              "      <th></th>\n",
              "      <th>category</th>\n",
              "      <th>headline</th>\n",
              "      <th>authors</th>\n",
              "      <th>link</th>\n",
              "      <th>short_description</th>\n",
              "      <th>date</th>\n",
              "    </tr>\n",
              "  </thead>\n",
              "  <tbody>\n",
              "    <tr>\n",
              "      <th>77976</th>\n",
              "      <td>POLITICS</td>\n",
              "      <td>Republican Activists Increasingly Favor Outsid...</td>\n",
              "      <td>Mark Blumenthal and Ariel Edwards-Levy</td>\n",
              "      <td>https://www.huffingtonpost.com/entry/republica...</td>\n",
              "      <td>Is this election an anomaly, or will the party...</td>\n",
              "      <td>2015-10-09</td>\n",
              "    </tr>\n",
              "    <tr>\n",
              "      <th>46953</th>\n",
              "      <td>POLITICS</td>\n",
              "      <td>A Crooked Wall Street Billionaire Is Crafting ...</td>\n",
              "      <td>Zach Carter</td>\n",
              "      <td>https://www.huffingtonpost.com/entry/a-crooked...</td>\n",
              "      <td>Hoo boy.</td>\n",
              "      <td>2016-09-26</td>\n",
              "    </tr>\n",
              "    <tr>\n",
              "      <th>356</th>\n",
              "      <td>POLITICS</td>\n",
              "      <td>GOP Candidate Set Up Trust That Pays His Kids ...</td>\n",
              "      <td>Mary Papenfuss</td>\n",
              "      <td>https://www.huffingtonpost.com/entry/vickers-c...</td>\n",
              "      <td>Even his own mom calls him a bigot, but former...</td>\n",
              "      <td>2018-05-19</td>\n",
              "    </tr>\n",
              "    <tr>\n",
              "      <th>106292</th>\n",
              "      <td>POLITICS</td>\n",
              "      <td>The U.S. Isn't in the Business of Bigotry, Are...</td>\n",
              "      <td>Terry O'Neill, ContributorPresident, National ...</td>\n",
              "      <td>https://www.huffingtonpost.com/entry/the-us-do...</td>\n",
              "      <td>Birth control is life-saving, life-affirming h...</td>\n",
              "      <td>2014-11-19</td>\n",
              "    </tr>\n",
              "    <tr>\n",
              "      <th>67266</th>\n",
              "      <td>POLITICS</td>\n",
              "      <td>Bernie Sanders On 'SNL' Is Everything We Hoped...</td>\n",
              "      <td>Paige Lavender</td>\n",
              "      <td>https://www.huffingtonpost.com/entry/bernie-sa...</td>\n",
              "      <td>Amazing.</td>\n",
              "      <td>2016-02-07</td>\n",
              "    </tr>\n",
              "  </tbody>\n",
              "</table>\n",
              "</div>\n",
              "      <button class=\"colab-df-convert\" onclick=\"convertToInteractive('df-3ce55292-116c-496f-8799-229fd2404b1c')\"\n",
              "              title=\"Convert this dataframe to an interactive table.\"\n",
              "              style=\"display:none;\">\n",
              "        \n",
              "  <svg xmlns=\"http://www.w3.org/2000/svg\" height=\"24px\"viewBox=\"0 0 24 24\"\n",
              "       width=\"24px\">\n",
              "    <path d=\"M0 0h24v24H0V0z\" fill=\"none\"/>\n",
              "    <path d=\"M18.56 5.44l.94 2.06.94-2.06 2.06-.94-2.06-.94-.94-2.06-.94 2.06-2.06.94zm-11 1L8.5 8.5l.94-2.06 2.06-.94-2.06-.94L8.5 2.5l-.94 2.06-2.06.94zm10 10l.94 2.06.94-2.06 2.06-.94-2.06-.94-.94-2.06-.94 2.06-2.06.94z\"/><path d=\"M17.41 7.96l-1.37-1.37c-.4-.4-.92-.59-1.43-.59-.52 0-1.04.2-1.43.59L10.3 9.45l-7.72 7.72c-.78.78-.78 2.05 0 2.83L4 21.41c.39.39.9.59 1.41.59.51 0 1.02-.2 1.41-.59l7.78-7.78 2.81-2.81c.8-.78.8-2.07 0-2.86zM5.41 20L4 18.59l7.72-7.72 1.47 1.35L5.41 20z\"/>\n",
              "  </svg>\n",
              "      </button>\n",
              "      \n",
              "  <style>\n",
              "    .colab-df-container {\n",
              "      display:flex;\n",
              "      flex-wrap:wrap;\n",
              "      gap: 12px;\n",
              "    }\n",
              "\n",
              "    .colab-df-convert {\n",
              "      background-color: #E8F0FE;\n",
              "      border: none;\n",
              "      border-radius: 50%;\n",
              "      cursor: pointer;\n",
              "      display: none;\n",
              "      fill: #1967D2;\n",
              "      height: 32px;\n",
              "      padding: 0 0 0 0;\n",
              "      width: 32px;\n",
              "    }\n",
              "\n",
              "    .colab-df-convert:hover {\n",
              "      background-color: #E2EBFA;\n",
              "      box-shadow: 0px 1px 2px rgba(60, 64, 67, 0.3), 0px 1px 3px 1px rgba(60, 64, 67, 0.15);\n",
              "      fill: #174EA6;\n",
              "    }\n",
              "\n",
              "    [theme=dark] .colab-df-convert {\n",
              "      background-color: #3B4455;\n",
              "      fill: #D2E3FC;\n",
              "    }\n",
              "\n",
              "    [theme=dark] .colab-df-convert:hover {\n",
              "      background-color: #434B5C;\n",
              "      box-shadow: 0px 1px 3px 1px rgba(0, 0, 0, 0.15);\n",
              "      filter: drop-shadow(0px 1px 2px rgba(0, 0, 0, 0.3));\n",
              "      fill: #FFFFFF;\n",
              "    }\n",
              "  </style>\n",
              "\n",
              "      <script>\n",
              "        const buttonEl =\n",
              "          document.querySelector('#df-3ce55292-116c-496f-8799-229fd2404b1c button.colab-df-convert');\n",
              "        buttonEl.style.display =\n",
              "          google.colab.kernel.accessAllowed ? 'block' : 'none';\n",
              "\n",
              "        async function convertToInteractive(key) {\n",
              "          const element = document.querySelector('#df-3ce55292-116c-496f-8799-229fd2404b1c');\n",
              "          const dataTable =\n",
              "            await google.colab.kernel.invokeFunction('convertToInteractive',\n",
              "                                                     [key], {});\n",
              "          if (!dataTable) return;\n",
              "\n",
              "          const docLinkHtml = 'Like what you see? Visit the ' +\n",
              "            '<a target=\"_blank\" href=https://colab.research.google.com/notebooks/data_table.ipynb>data table notebook</a>'\n",
              "            + ' to learn more about interactive tables.';\n",
              "          element.innerHTML = '';\n",
              "          dataTable['output_type'] = 'display_data';\n",
              "          await google.colab.output.renderOutput(dataTable, element);\n",
              "          const docLink = document.createElement('div');\n",
              "          docLink.innerHTML = docLinkHtml;\n",
              "          element.appendChild(docLink);\n",
              "        }\n",
              "      </script>\n",
              "    </div>\n",
              "  </div>\n",
              "  "
            ]
          },
          "metadata": {},
          "execution_count": 21
        }
      ]
    },
    {
      "cell_type": "markdown",
      "source": [
        "## Combining the column\n"
      ],
      "metadata": {
        "id": "NDJlf3cDiXqq"
      }
    },
    {
      "cell_type": "code",
      "source": [
        "data['text'] = data['headline']+'-'+data['short_description']"
      ],
      "metadata": {
        "id": "xSEV5q4HiZKv"
      },
      "execution_count": null,
      "outputs": []
    },
    {
      "cell_type": "code",
      "source": [
        "data.head(5)"
      ],
      "metadata": {
        "colab": {
          "base_uri": "https://localhost:8080/",
          "height": 337
        },
        "id": "ApS5h7hqiZ6z",
        "outputId": "1de668f3-93ea-4f39-98b2-2b363369ceb9"
      },
      "execution_count": null,
      "outputs": [
        {
          "output_type": "execute_result",
          "data": {
            "text/plain": [
              "        category                                           headline  \\\n",
              "77976   POLITICS  Republican Activists Increasingly Favor Outsid...   \n",
              "46953   POLITICS  A Crooked Wall Street Billionaire Is Crafting ...   \n",
              "356     POLITICS  GOP Candidate Set Up Trust That Pays His Kids ...   \n",
              "106292  POLITICS  The U.S. Isn't in the Business of Bigotry, Are...   \n",
              "67266   POLITICS  Bernie Sanders On 'SNL' Is Everything We Hoped...   \n",
              "\n",
              "                                                  authors  \\\n",
              "77976              Mark Blumenthal and Ariel Edwards-Levy   \n",
              "46953                                         Zach Carter   \n",
              "356                                        Mary Papenfuss   \n",
              "106292  Terry O'Neill, ContributorPresident, National ...   \n",
              "67266                                      Paige Lavender   \n",
              "\n",
              "                                                     link  \\\n",
              "77976   https://www.huffingtonpost.com/entry/republica...   \n",
              "46953   https://www.huffingtonpost.com/entry/a-crooked...   \n",
              "356     https://www.huffingtonpost.com/entry/vickers-c...   \n",
              "106292  https://www.huffingtonpost.com/entry/the-us-do...   \n",
              "67266   https://www.huffingtonpost.com/entry/bernie-sa...   \n",
              "\n",
              "                                        short_description       date  \\\n",
              "77976   Is this election an anomaly, or will the party... 2015-10-09   \n",
              "46953                                            Hoo boy. 2016-09-26   \n",
              "356     Even his own mom calls him a bigot, but former... 2018-05-19   \n",
              "106292  Birth control is life-saving, life-affirming h... 2014-11-19   \n",
              "67266                                            Amazing. 2016-02-07   \n",
              "\n",
              "                                                     text  \n",
              "77976   Republican Activists Increasingly Favor Outsid...  \n",
              "46953   A Crooked Wall Street Billionaire Is Crafting ...  \n",
              "356     GOP Candidate Set Up Trust That Pays His Kids ...  \n",
              "106292  The U.S. Isn't in the Business of Bigotry, Are...  \n",
              "67266   Bernie Sanders On 'SNL' Is Everything We Hoped...  "
            ],
            "text/html": [
              "\n",
              "  <div id=\"df-8805efbb-03c6-44aa-bdc8-f6346735adff\">\n",
              "    <div class=\"colab-df-container\">\n",
              "      <div>\n",
              "<style scoped>\n",
              "    .dataframe tbody tr th:only-of-type {\n",
              "        vertical-align: middle;\n",
              "    }\n",
              "\n",
              "    .dataframe tbody tr th {\n",
              "        vertical-align: top;\n",
              "    }\n",
              "\n",
              "    .dataframe thead th {\n",
              "        text-align: right;\n",
              "    }\n",
              "</style>\n",
              "<table border=\"1\" class=\"dataframe\">\n",
              "  <thead>\n",
              "    <tr style=\"text-align: right;\">\n",
              "      <th></th>\n",
              "      <th>category</th>\n",
              "      <th>headline</th>\n",
              "      <th>authors</th>\n",
              "      <th>link</th>\n",
              "      <th>short_description</th>\n",
              "      <th>date</th>\n",
              "      <th>text</th>\n",
              "    </tr>\n",
              "  </thead>\n",
              "  <tbody>\n",
              "    <tr>\n",
              "      <th>77976</th>\n",
              "      <td>POLITICS</td>\n",
              "      <td>Republican Activists Increasingly Favor Outsid...</td>\n",
              "      <td>Mark Blumenthal and Ariel Edwards-Levy</td>\n",
              "      <td>https://www.huffingtonpost.com/entry/republica...</td>\n",
              "      <td>Is this election an anomaly, or will the party...</td>\n",
              "      <td>2015-10-09</td>\n",
              "      <td>Republican Activists Increasingly Favor Outsid...</td>\n",
              "    </tr>\n",
              "    <tr>\n",
              "      <th>46953</th>\n",
              "      <td>POLITICS</td>\n",
              "      <td>A Crooked Wall Street Billionaire Is Crafting ...</td>\n",
              "      <td>Zach Carter</td>\n",
              "      <td>https://www.huffingtonpost.com/entry/a-crooked...</td>\n",
              "      <td>Hoo boy.</td>\n",
              "      <td>2016-09-26</td>\n",
              "      <td>A Crooked Wall Street Billionaire Is Crafting ...</td>\n",
              "    </tr>\n",
              "    <tr>\n",
              "      <th>356</th>\n",
              "      <td>POLITICS</td>\n",
              "      <td>GOP Candidate Set Up Trust That Pays His Kids ...</td>\n",
              "      <td>Mary Papenfuss</td>\n",
              "      <td>https://www.huffingtonpost.com/entry/vickers-c...</td>\n",
              "      <td>Even his own mom calls him a bigot, but former...</td>\n",
              "      <td>2018-05-19</td>\n",
              "      <td>GOP Candidate Set Up Trust That Pays His Kids ...</td>\n",
              "    </tr>\n",
              "    <tr>\n",
              "      <th>106292</th>\n",
              "      <td>POLITICS</td>\n",
              "      <td>The U.S. Isn't in the Business of Bigotry, Are...</td>\n",
              "      <td>Terry O'Neill, ContributorPresident, National ...</td>\n",
              "      <td>https://www.huffingtonpost.com/entry/the-us-do...</td>\n",
              "      <td>Birth control is life-saving, life-affirming h...</td>\n",
              "      <td>2014-11-19</td>\n",
              "      <td>The U.S. Isn't in the Business of Bigotry, Are...</td>\n",
              "    </tr>\n",
              "    <tr>\n",
              "      <th>67266</th>\n",
              "      <td>POLITICS</td>\n",
              "      <td>Bernie Sanders On 'SNL' Is Everything We Hoped...</td>\n",
              "      <td>Paige Lavender</td>\n",
              "      <td>https://www.huffingtonpost.com/entry/bernie-sa...</td>\n",
              "      <td>Amazing.</td>\n",
              "      <td>2016-02-07</td>\n",
              "      <td>Bernie Sanders On 'SNL' Is Everything We Hoped...</td>\n",
              "    </tr>\n",
              "  </tbody>\n",
              "</table>\n",
              "</div>\n",
              "      <button class=\"colab-df-convert\" onclick=\"convertToInteractive('df-8805efbb-03c6-44aa-bdc8-f6346735adff')\"\n",
              "              title=\"Convert this dataframe to an interactive table.\"\n",
              "              style=\"display:none;\">\n",
              "        \n",
              "  <svg xmlns=\"http://www.w3.org/2000/svg\" height=\"24px\"viewBox=\"0 0 24 24\"\n",
              "       width=\"24px\">\n",
              "    <path d=\"M0 0h24v24H0V0z\" fill=\"none\"/>\n",
              "    <path d=\"M18.56 5.44l.94 2.06.94-2.06 2.06-.94-2.06-.94-.94-2.06-.94 2.06-2.06.94zm-11 1L8.5 8.5l.94-2.06 2.06-.94-2.06-.94L8.5 2.5l-.94 2.06-2.06.94zm10 10l.94 2.06.94-2.06 2.06-.94-2.06-.94-.94-2.06-.94 2.06-2.06.94z\"/><path d=\"M17.41 7.96l-1.37-1.37c-.4-.4-.92-.59-1.43-.59-.52 0-1.04.2-1.43.59L10.3 9.45l-7.72 7.72c-.78.78-.78 2.05 0 2.83L4 21.41c.39.39.9.59 1.41.59.51 0 1.02-.2 1.41-.59l7.78-7.78 2.81-2.81c.8-.78.8-2.07 0-2.86zM5.41 20L4 18.59l7.72-7.72 1.47 1.35L5.41 20z\"/>\n",
              "  </svg>\n",
              "      </button>\n",
              "      \n",
              "  <style>\n",
              "    .colab-df-container {\n",
              "      display:flex;\n",
              "      flex-wrap:wrap;\n",
              "      gap: 12px;\n",
              "    }\n",
              "\n",
              "    .colab-df-convert {\n",
              "      background-color: #E8F0FE;\n",
              "      border: none;\n",
              "      border-radius: 50%;\n",
              "      cursor: pointer;\n",
              "      display: none;\n",
              "      fill: #1967D2;\n",
              "      height: 32px;\n",
              "      padding: 0 0 0 0;\n",
              "      width: 32px;\n",
              "    }\n",
              "\n",
              "    .colab-df-convert:hover {\n",
              "      background-color: #E2EBFA;\n",
              "      box-shadow: 0px 1px 2px rgba(60, 64, 67, 0.3), 0px 1px 3px 1px rgba(60, 64, 67, 0.15);\n",
              "      fill: #174EA6;\n",
              "    }\n",
              "\n",
              "    [theme=dark] .colab-df-convert {\n",
              "      background-color: #3B4455;\n",
              "      fill: #D2E3FC;\n",
              "    }\n",
              "\n",
              "    [theme=dark] .colab-df-convert:hover {\n",
              "      background-color: #434B5C;\n",
              "      box-shadow: 0px 1px 3px 1px rgba(0, 0, 0, 0.15);\n",
              "      filter: drop-shadow(0px 1px 2px rgba(0, 0, 0, 0.3));\n",
              "      fill: #FFFFFF;\n",
              "    }\n",
              "  </style>\n",
              "\n",
              "      <script>\n",
              "        const buttonEl =\n",
              "          document.querySelector('#df-8805efbb-03c6-44aa-bdc8-f6346735adff button.colab-df-convert');\n",
              "        buttonEl.style.display =\n",
              "          google.colab.kernel.accessAllowed ? 'block' : 'none';\n",
              "\n",
              "        async function convertToInteractive(key) {\n",
              "          const element = document.querySelector('#df-8805efbb-03c6-44aa-bdc8-f6346735adff');\n",
              "          const dataTable =\n",
              "            await google.colab.kernel.invokeFunction('convertToInteractive',\n",
              "                                                     [key], {});\n",
              "          if (!dataTable) return;\n",
              "\n",
              "          const docLinkHtml = 'Like what you see? Visit the ' +\n",
              "            '<a target=\"_blank\" href=https://colab.research.google.com/notebooks/data_table.ipynb>data table notebook</a>'\n",
              "            + ' to learn more about interactive tables.';\n",
              "          element.innerHTML = '';\n",
              "          dataTable['output_type'] = 'display_data';\n",
              "          await google.colab.output.renderOutput(dataTable, element);\n",
              "          const docLink = document.createElement('div');\n",
              "          docLink.innerHTML = docLinkHtml;\n",
              "          element.appendChild(docLink);\n",
              "        }\n",
              "      </script>\n",
              "    </div>\n",
              "  </div>\n",
              "  "
            ]
          },
          "metadata": {},
          "execution_count": 23
        }
      ]
    },
    {
      "cell_type": "code",
      "source": [
        "#drop the other columns\n",
        "data.drop(['authors','headline','short_description'],axis=1,inplace=True)"
      ],
      "metadata": {
        "id": "Xq5te0q5i0mE"
      },
      "execution_count": null,
      "outputs": []
    },
    {
      "cell_type": "code",
      "source": [
        "\n",
        "# shuffle the dataset \n",
        "from sklearn.utils import shuffle\n",
        "data = shuffle(data)\n",
        "data.reset_index(inplace=True, drop=True) \n",
        "data.head(4)"
      ],
      "metadata": {
        "colab": {
          "base_uri": "https://localhost:8080/",
          "height": 174
        },
        "id": "1kQ0hiQei397",
        "outputId": "0a6bc36a-213f-48e2-abca-7cfbdc095256"
      },
      "execution_count": null,
      "outputs": [
        {
          "output_type": "execute_result",
          "data": {
            "text/plain": [
              "       category                                               link       date  \\\n",
              "0  BLACK VOICES  https://www.huffingtonpost.com/entry/3-chicago... 2017-06-27   \n",
              "1  BLACK VOICES  https://www.huffingtonpost.com/entry/memphis-t... 2017-08-28   \n",
              "2        COMEDY  https://www.huffingtonpost.com/entry/teens-rea... 2015-07-13   \n",
              "3     PARENTING  https://www.huffingtonpost.com/entry/friends-b... 2013-01-27   \n",
              "\n",
              "                                                text  \n",
              "0  3 Chicago Cops Charged In Cover-Up Of Laquan M...  \n",
              "1  Memphis Theater Won't Play 'Gone With The Wind...  \n",
              "2  Teens Reacting To Encyclopedias Will Probably ...  \n",
              "3  My Friends Were Becoming Grandparents And It '...  "
            ],
            "text/html": [
              "\n",
              "  <div id=\"df-5fdd49f1-301e-492d-884a-89ad33b521e3\">\n",
              "    <div class=\"colab-df-container\">\n",
              "      <div>\n",
              "<style scoped>\n",
              "    .dataframe tbody tr th:only-of-type {\n",
              "        vertical-align: middle;\n",
              "    }\n",
              "\n",
              "    .dataframe tbody tr th {\n",
              "        vertical-align: top;\n",
              "    }\n",
              "\n",
              "    .dataframe thead th {\n",
              "        text-align: right;\n",
              "    }\n",
              "</style>\n",
              "<table border=\"1\" class=\"dataframe\">\n",
              "  <thead>\n",
              "    <tr style=\"text-align: right;\">\n",
              "      <th></th>\n",
              "      <th>category</th>\n",
              "      <th>link</th>\n",
              "      <th>date</th>\n",
              "      <th>text</th>\n",
              "    </tr>\n",
              "  </thead>\n",
              "  <tbody>\n",
              "    <tr>\n",
              "      <th>0</th>\n",
              "      <td>BLACK VOICES</td>\n",
              "      <td>https://www.huffingtonpost.com/entry/3-chicago...</td>\n",
              "      <td>2017-06-27</td>\n",
              "      <td>3 Chicago Cops Charged In Cover-Up Of Laquan M...</td>\n",
              "    </tr>\n",
              "    <tr>\n",
              "      <th>1</th>\n",
              "      <td>BLACK VOICES</td>\n",
              "      <td>https://www.huffingtonpost.com/entry/memphis-t...</td>\n",
              "      <td>2017-08-28</td>\n",
              "      <td>Memphis Theater Won't Play 'Gone With The Wind...</td>\n",
              "    </tr>\n",
              "    <tr>\n",
              "      <th>2</th>\n",
              "      <td>COMEDY</td>\n",
              "      <td>https://www.huffingtonpost.com/entry/teens-rea...</td>\n",
              "      <td>2015-07-13</td>\n",
              "      <td>Teens Reacting To Encyclopedias Will Probably ...</td>\n",
              "    </tr>\n",
              "    <tr>\n",
              "      <th>3</th>\n",
              "      <td>PARENTING</td>\n",
              "      <td>https://www.huffingtonpost.com/entry/friends-b...</td>\n",
              "      <td>2013-01-27</td>\n",
              "      <td>My Friends Were Becoming Grandparents And It '...</td>\n",
              "    </tr>\n",
              "  </tbody>\n",
              "</table>\n",
              "</div>\n",
              "      <button class=\"colab-df-convert\" onclick=\"convertToInteractive('df-5fdd49f1-301e-492d-884a-89ad33b521e3')\"\n",
              "              title=\"Convert this dataframe to an interactive table.\"\n",
              "              style=\"display:none;\">\n",
              "        \n",
              "  <svg xmlns=\"http://www.w3.org/2000/svg\" height=\"24px\"viewBox=\"0 0 24 24\"\n",
              "       width=\"24px\">\n",
              "    <path d=\"M0 0h24v24H0V0z\" fill=\"none\"/>\n",
              "    <path d=\"M18.56 5.44l.94 2.06.94-2.06 2.06-.94-2.06-.94-.94-2.06-.94 2.06-2.06.94zm-11 1L8.5 8.5l.94-2.06 2.06-.94-2.06-.94L8.5 2.5l-.94 2.06-2.06.94zm10 10l.94 2.06.94-2.06 2.06-.94-2.06-.94-.94-2.06-.94 2.06-2.06.94z\"/><path d=\"M17.41 7.96l-1.37-1.37c-.4-.4-.92-.59-1.43-.59-.52 0-1.04.2-1.43.59L10.3 9.45l-7.72 7.72c-.78.78-.78 2.05 0 2.83L4 21.41c.39.39.9.59 1.41.59.51 0 1.02-.2 1.41-.59l7.78-7.78 2.81-2.81c.8-.78.8-2.07 0-2.86zM5.41 20L4 18.59l7.72-7.72 1.47 1.35L5.41 20z\"/>\n",
              "  </svg>\n",
              "      </button>\n",
              "      \n",
              "  <style>\n",
              "    .colab-df-container {\n",
              "      display:flex;\n",
              "      flex-wrap:wrap;\n",
              "      gap: 12px;\n",
              "    }\n",
              "\n",
              "    .colab-df-convert {\n",
              "      background-color: #E8F0FE;\n",
              "      border: none;\n",
              "      border-radius: 50%;\n",
              "      cursor: pointer;\n",
              "      display: none;\n",
              "      fill: #1967D2;\n",
              "      height: 32px;\n",
              "      padding: 0 0 0 0;\n",
              "      width: 32px;\n",
              "    }\n",
              "\n",
              "    .colab-df-convert:hover {\n",
              "      background-color: #E2EBFA;\n",
              "      box-shadow: 0px 1px 2px rgba(60, 64, 67, 0.3), 0px 1px 3px 1px rgba(60, 64, 67, 0.15);\n",
              "      fill: #174EA6;\n",
              "    }\n",
              "\n",
              "    [theme=dark] .colab-df-convert {\n",
              "      background-color: #3B4455;\n",
              "      fill: #D2E3FC;\n",
              "    }\n",
              "\n",
              "    [theme=dark] .colab-df-convert:hover {\n",
              "      background-color: #434B5C;\n",
              "      box-shadow: 0px 1px 3px 1px rgba(0, 0, 0, 0.15);\n",
              "      filter: drop-shadow(0px 1px 2px rgba(0, 0, 0, 0.3));\n",
              "      fill: #FFFFFF;\n",
              "    }\n",
              "  </style>\n",
              "\n",
              "      <script>\n",
              "        const buttonEl =\n",
              "          document.querySelector('#df-5fdd49f1-301e-492d-884a-89ad33b521e3 button.colab-df-convert');\n",
              "        buttonEl.style.display =\n",
              "          google.colab.kernel.accessAllowed ? 'block' : 'none';\n",
              "\n",
              "        async function convertToInteractive(key) {\n",
              "          const element = document.querySelector('#df-5fdd49f1-301e-492d-884a-89ad33b521e3');\n",
              "          const dataTable =\n",
              "            await google.colab.kernel.invokeFunction('convertToInteractive',\n",
              "                                                     [key], {});\n",
              "          if (!dataTable) return;\n",
              "\n",
              "          const docLinkHtml = 'Like what you see? Visit the ' +\n",
              "            '<a target=\"_blank\" href=https://colab.research.google.com/notebooks/data_table.ipynb>data table notebook</a>'\n",
              "            + ' to learn more about interactive tables.';\n",
              "          element.innerHTML = '';\n",
              "          dataTable['output_type'] = 'display_data';\n",
              "          await google.colab.output.renderOutput(dataTable, element);\n",
              "          const docLink = document.createElement('div');\n",
              "          docLink.innerHTML = docLinkHtml;\n",
              "          element.appendChild(docLink);\n",
              "        }\n",
              "      </script>\n",
              "    </div>\n",
              "  </div>\n",
              "  "
            ]
          },
          "metadata": {},
          "execution_count": 25
        }
      ]
    },
    {
      "cell_type": "markdown",
      "source": [
        "## Training the data\n"
      ],
      "metadata": {
        "id": "7BCK0wUGjSiy"
      }
    },
    {
      "cell_type": "code",
      "source": [
        "#train and test split\n",
        "X = data['text']\n",
        "#label encoding the target\n",
        "label = LabelEncoder()\n",
        "y = label.fit_transform(data['category'])\n",
        "\n",
        "#split the train and test dataset\n",
        "X_train,X_test,y_train,y_test = train_test_split(X,y,test_size = 0.1,random_state=2)"
      ],
      "metadata": {
        "id": "etcDO6D_jKTU"
      },
      "execution_count": null,
      "outputs": []
    },
    {
      "cell_type": "code",
      "source": [
        "#ifidf vectorizer\n",
        "\n",
        "vecto =  TfidfVectorizer(stop_words='english',max_df = 0.99,min_df=10,\n",
        "                                   ngram_range=(1, 2),lowercase=True, max_features=5000)\n",
        "vecto = vecto.fit(X_train)\n",
        "\n",
        "X_train = vecto.transform(X_train).toarray()\n",
        "X_test = vecto.transform(X_test).toarray()\n",
        "X_train.shape"
      ],
      "metadata": {
        "colab": {
          "base_uri": "https://localhost:8080/"
        },
        "id": "IPdux0injUxK",
        "outputId": "52241016-1525-4f6e-f91b-eda92e299aa4"
      },
      "execution_count": null,
      "outputs": [
        {
          "output_type": "execute_result",
          "data": {
            "text/plain": [
              "(40500, 5000)"
            ]
          },
          "metadata": {},
          "execution_count": 27
        }
      ]
    },
    {
      "cell_type": "code",
      "source": [
        "tfidf_df = pd.DataFrame(X_train,columns = vecto.get_feature_names())\n",
        "tfidf_df.head(4)"
      ],
      "metadata": {
        "colab": {
          "base_uri": "https://localhost:8080/",
          "height": 258
        },
        "id": "aHXd-UR6jtsN",
        "outputId": "8354b016-fd01-4f20-a64f-d51d16af6bee"
      },
      "execution_count": null,
      "outputs": [
        {
          "output_type": "stream",
          "name": "stderr",
          "text": [
            "/usr/local/lib/python3.7/dist-packages/sklearn/utils/deprecation.py:87: FutureWarning: Function get_feature_names is deprecated; get_feature_names is deprecated in 1.0 and will be removed in 1.2. Please use get_feature_names_out instead.\n",
            "  warnings.warn(msg, category=FutureWarning)\n"
          ]
        },
        {
          "output_type": "execute_result",
          "data": {
            "text/plain": [
              "   000   10  10 best  10 reasons  10 things  10 tips  10 ways  10 year  \\\n",
              "0  0.0  0.0      0.0         0.0        0.0      0.0      0.0      0.0   \n",
              "1  0.0  0.0      0.0         0.0        0.0      0.0      0.0      0.0   \n",
              "2  0.0  0.0      0.0         0.0        0.0      0.0      0.0      0.0   \n",
              "3  0.0  0.0      0.0         0.0        0.0      0.0      0.0      0.0   \n",
              "\n",
              "   10 years  100  ...  youtube  zealand  zen  zero  zika  zika virus  \\\n",
              "0       0.0  0.0  ...      0.0      0.0  0.0   0.0   0.0         0.0   \n",
              "1       0.0  0.0  ...      0.0      0.0  0.0   0.0   0.0         0.0   \n",
              "2       0.0  0.0  ...      0.0      0.0  0.0   0.0   0.0         0.0   \n",
              "3       0.0  0.0  ...      0.0      0.0  0.0   0.0   0.0         0.0   \n",
              "\n",
              "   zimmerman  zoe  zone  zuckerberg  \n",
              "0        0.0  0.0   0.0         0.0  \n",
              "1        0.0  0.0   0.0         0.0  \n",
              "2        0.0  0.0   0.0         0.0  \n",
              "3        0.0  0.0   0.0         0.0  \n",
              "\n",
              "[4 rows x 5000 columns]"
            ],
            "text/html": [
              "\n",
              "  <div id=\"df-deef54b4-9007-4d3e-9ec9-8ff9a686f412\">\n",
              "    <div class=\"colab-df-container\">\n",
              "      <div>\n",
              "<style scoped>\n",
              "    .dataframe tbody tr th:only-of-type {\n",
              "        vertical-align: middle;\n",
              "    }\n",
              "\n",
              "    .dataframe tbody tr th {\n",
              "        vertical-align: top;\n",
              "    }\n",
              "\n",
              "    .dataframe thead th {\n",
              "        text-align: right;\n",
              "    }\n",
              "</style>\n",
              "<table border=\"1\" class=\"dataframe\">\n",
              "  <thead>\n",
              "    <tr style=\"text-align: right;\">\n",
              "      <th></th>\n",
              "      <th>000</th>\n",
              "      <th>10</th>\n",
              "      <th>10 best</th>\n",
              "      <th>10 reasons</th>\n",
              "      <th>10 things</th>\n",
              "      <th>10 tips</th>\n",
              "      <th>10 ways</th>\n",
              "      <th>10 year</th>\n",
              "      <th>10 years</th>\n",
              "      <th>100</th>\n",
              "      <th>...</th>\n",
              "      <th>youtube</th>\n",
              "      <th>zealand</th>\n",
              "      <th>zen</th>\n",
              "      <th>zero</th>\n",
              "      <th>zika</th>\n",
              "      <th>zika virus</th>\n",
              "      <th>zimmerman</th>\n",
              "      <th>zoe</th>\n",
              "      <th>zone</th>\n",
              "      <th>zuckerberg</th>\n",
              "    </tr>\n",
              "  </thead>\n",
              "  <tbody>\n",
              "    <tr>\n",
              "      <th>0</th>\n",
              "      <td>0.0</td>\n",
              "      <td>0.0</td>\n",
              "      <td>0.0</td>\n",
              "      <td>0.0</td>\n",
              "      <td>0.0</td>\n",
              "      <td>0.0</td>\n",
              "      <td>0.0</td>\n",
              "      <td>0.0</td>\n",
              "      <td>0.0</td>\n",
              "      <td>0.0</td>\n",
              "      <td>...</td>\n",
              "      <td>0.0</td>\n",
              "      <td>0.0</td>\n",
              "      <td>0.0</td>\n",
              "      <td>0.0</td>\n",
              "      <td>0.0</td>\n",
              "      <td>0.0</td>\n",
              "      <td>0.0</td>\n",
              "      <td>0.0</td>\n",
              "      <td>0.0</td>\n",
              "      <td>0.0</td>\n",
              "    </tr>\n",
              "    <tr>\n",
              "      <th>1</th>\n",
              "      <td>0.0</td>\n",
              "      <td>0.0</td>\n",
              "      <td>0.0</td>\n",
              "      <td>0.0</td>\n",
              "      <td>0.0</td>\n",
              "      <td>0.0</td>\n",
              "      <td>0.0</td>\n",
              "      <td>0.0</td>\n",
              "      <td>0.0</td>\n",
              "      <td>0.0</td>\n",
              "      <td>...</td>\n",
              "      <td>0.0</td>\n",
              "      <td>0.0</td>\n",
              "      <td>0.0</td>\n",
              "      <td>0.0</td>\n",
              "      <td>0.0</td>\n",
              "      <td>0.0</td>\n",
              "      <td>0.0</td>\n",
              "      <td>0.0</td>\n",
              "      <td>0.0</td>\n",
              "      <td>0.0</td>\n",
              "    </tr>\n",
              "    <tr>\n",
              "      <th>2</th>\n",
              "      <td>0.0</td>\n",
              "      <td>0.0</td>\n",
              "      <td>0.0</td>\n",
              "      <td>0.0</td>\n",
              "      <td>0.0</td>\n",
              "      <td>0.0</td>\n",
              "      <td>0.0</td>\n",
              "      <td>0.0</td>\n",
              "      <td>0.0</td>\n",
              "      <td>0.0</td>\n",
              "      <td>...</td>\n",
              "      <td>0.0</td>\n",
              "      <td>0.0</td>\n",
              "      <td>0.0</td>\n",
              "      <td>0.0</td>\n",
              "      <td>0.0</td>\n",
              "      <td>0.0</td>\n",
              "      <td>0.0</td>\n",
              "      <td>0.0</td>\n",
              "      <td>0.0</td>\n",
              "      <td>0.0</td>\n",
              "    </tr>\n",
              "    <tr>\n",
              "      <th>3</th>\n",
              "      <td>0.0</td>\n",
              "      <td>0.0</td>\n",
              "      <td>0.0</td>\n",
              "      <td>0.0</td>\n",
              "      <td>0.0</td>\n",
              "      <td>0.0</td>\n",
              "      <td>0.0</td>\n",
              "      <td>0.0</td>\n",
              "      <td>0.0</td>\n",
              "      <td>0.0</td>\n",
              "      <td>...</td>\n",
              "      <td>0.0</td>\n",
              "      <td>0.0</td>\n",
              "      <td>0.0</td>\n",
              "      <td>0.0</td>\n",
              "      <td>0.0</td>\n",
              "      <td>0.0</td>\n",
              "      <td>0.0</td>\n",
              "      <td>0.0</td>\n",
              "      <td>0.0</td>\n",
              "      <td>0.0</td>\n",
              "    </tr>\n",
              "  </tbody>\n",
              "</table>\n",
              "<p>4 rows × 5000 columns</p>\n",
              "</div>\n",
              "      <button class=\"colab-df-convert\" onclick=\"convertToInteractive('df-deef54b4-9007-4d3e-9ec9-8ff9a686f412')\"\n",
              "              title=\"Convert this dataframe to an interactive table.\"\n",
              "              style=\"display:none;\">\n",
              "        \n",
              "  <svg xmlns=\"http://www.w3.org/2000/svg\" height=\"24px\"viewBox=\"0 0 24 24\"\n",
              "       width=\"24px\">\n",
              "    <path d=\"M0 0h24v24H0V0z\" fill=\"none\"/>\n",
              "    <path d=\"M18.56 5.44l.94 2.06.94-2.06 2.06-.94-2.06-.94-.94-2.06-.94 2.06-2.06.94zm-11 1L8.5 8.5l.94-2.06 2.06-.94-2.06-.94L8.5 2.5l-.94 2.06-2.06.94zm10 10l.94 2.06.94-2.06 2.06-.94-2.06-.94-.94-2.06-.94 2.06-2.06.94z\"/><path d=\"M17.41 7.96l-1.37-1.37c-.4-.4-.92-.59-1.43-.59-.52 0-1.04.2-1.43.59L10.3 9.45l-7.72 7.72c-.78.78-.78 2.05 0 2.83L4 21.41c.39.39.9.59 1.41.59.51 0 1.02-.2 1.41-.59l7.78-7.78 2.81-2.81c.8-.78.8-2.07 0-2.86zM5.41 20L4 18.59l7.72-7.72 1.47 1.35L5.41 20z\"/>\n",
              "  </svg>\n",
              "      </button>\n",
              "      \n",
              "  <style>\n",
              "    .colab-df-container {\n",
              "      display:flex;\n",
              "      flex-wrap:wrap;\n",
              "      gap: 12px;\n",
              "    }\n",
              "\n",
              "    .colab-df-convert {\n",
              "      background-color: #E8F0FE;\n",
              "      border: none;\n",
              "      border-radius: 50%;\n",
              "      cursor: pointer;\n",
              "      display: none;\n",
              "      fill: #1967D2;\n",
              "      height: 32px;\n",
              "      padding: 0 0 0 0;\n",
              "      width: 32px;\n",
              "    }\n",
              "\n",
              "    .colab-df-convert:hover {\n",
              "      background-color: #E2EBFA;\n",
              "      box-shadow: 0px 1px 2px rgba(60, 64, 67, 0.3), 0px 1px 3px 1px rgba(60, 64, 67, 0.15);\n",
              "      fill: #174EA6;\n",
              "    }\n",
              "\n",
              "    [theme=dark] .colab-df-convert {\n",
              "      background-color: #3B4455;\n",
              "      fill: #D2E3FC;\n",
              "    }\n",
              "\n",
              "    [theme=dark] .colab-df-convert:hover {\n",
              "      background-color: #434B5C;\n",
              "      box-shadow: 0px 1px 3px 1px rgba(0, 0, 0, 0.15);\n",
              "      filter: drop-shadow(0px 1px 2px rgba(0, 0, 0, 0.3));\n",
              "      fill: #FFFFFF;\n",
              "    }\n",
              "  </style>\n",
              "\n",
              "      <script>\n",
              "        const buttonEl =\n",
              "          document.querySelector('#df-deef54b4-9007-4d3e-9ec9-8ff9a686f412 button.colab-df-convert');\n",
              "        buttonEl.style.display =\n",
              "          google.colab.kernel.accessAllowed ? 'block' : 'none';\n",
              "\n",
              "        async function convertToInteractive(key) {\n",
              "          const element = document.querySelector('#df-deef54b4-9007-4d3e-9ec9-8ff9a686f412');\n",
              "          const dataTable =\n",
              "            await google.colab.kernel.invokeFunction('convertToInteractive',\n",
              "                                                     [key], {});\n",
              "          if (!dataTable) return;\n",
              "\n",
              "          const docLinkHtml = 'Like what you see? Visit the ' +\n",
              "            '<a target=\"_blank\" href=https://colab.research.google.com/notebooks/data_table.ipynb>data table notebook</a>'\n",
              "            + ' to learn more about interactive tables.';\n",
              "          element.innerHTML = '';\n",
              "          dataTable['output_type'] = 'display_data';\n",
              "          await google.colab.output.renderOutput(dataTable, element);\n",
              "          const docLink = document.createElement('div');\n",
              "          docLink.innerHTML = docLinkHtml;\n",
              "          element.appendChild(docLink);\n",
              "        }\n",
              "      </script>\n",
              "    </div>\n",
              "  </div>\n",
              "  "
            ]
          },
          "metadata": {},
          "execution_count": 29
        }
      ]
    },
    {
      "cell_type": "code",
      "source": [
        "print(\"The X_train shape----->\",X_train.shape)\n",
        "print('The X_text shape------>',X_test.shape)\n",
        "print(\"THe y_train shape----->\",y_train.shape)\n",
        "print(\"The y_test shape------>\",y_test.shape)"
      ],
      "metadata": {
        "colab": {
          "base_uri": "https://localhost:8080/"
        },
        "id": "NiOXVhjDjw49",
        "outputId": "1ac43114-46cd-4697-f550-2d76b5bbe7d3"
      },
      "execution_count": null,
      "outputs": [
        {
          "output_type": "stream",
          "name": "stdout",
          "text": [
            "The X_train shape-----> (40500, 5000)\n",
            "The X_text shape------> (4500, 5000)\n",
            "THe y_train shape-----> (40500,)\n",
            "The y_test shape------> (4500,)\n"
          ]
        }
      ]
    },
    {
      "cell_type": "code",
      "source": [
        "\n",
        "def classifier_scores(y_train,y_test, pred_train, pred_test):\n",
        "    \n",
        "    print()\n",
        "    print(\"Train data accuracy score: \", accuracy_score(y_train,pred_train))    \n",
        "    print(\"Test data accuracy score: \", accuracy_score(y_test,pred_test))\n",
        "    print()\n",
        "    print(\"Recall score on train data: \", recall_score(y_train,pred_train, average='macro'))\n",
        "    print(\"Recall score on test data: \",recall_score( y_test,pred_test, average='macro'))\n",
        "    print()\n",
        "    \n",
        "    print(\"Precision score on train data: \",precision_score(y_train,pred_train, average='macro'))\n",
        "    print(\"Precision score on test data: \",precision_score(y_test,pred_test, average='macro'))\n",
        "    print()\n",
        "    print(\"F1 score on train data: \",f1_score(y_train,pred_train, average='macro'))\n",
        "    print(\"F1 score on test data: \",f1_score(y_test,pred_test, average='macro'))"
      ],
      "metadata": {
        "id": "wXbnP6U1jzy0"
      },
      "execution_count": null,
      "outputs": []
    },
    {
      "cell_type": "code",
      "source": [
        "## Multinomial Naive Bayes\n",
        "print(\"Multinamial NB----------------------------------->\")\n",
        "multinb = MultinomialNB()\n",
        "multinb.fit(X_train , y_train)\n",
        "\n",
        "y_train_pred = multinb.predict(X_train)\n",
        "y_test_pred = multinb.predict(X_test)\n",
        "classifier_scores(y_train,y_test,y_train_pred,y_test_pred)"
      ],
      "metadata": {
        "colab": {
          "base_uri": "https://localhost:8080/"
        },
        "id": "pEDnYzSuj2j1",
        "outputId": "eda4e229-4347-44ad-f3d4-2c8ff5a98b4b"
      },
      "execution_count": null,
      "outputs": [
        {
          "output_type": "stream",
          "name": "stdout",
          "text": [
            "Multinamial NB----------------------------------->\n",
            "\n",
            "Train data accuracy score:  0.7319753086419754\n",
            "Test data accuracy score:  0.6488888888888888\n",
            "\n",
            "Recall score on train data:  0.7323129950981127\n",
            "Recall score on test data:  0.6442580544769801\n",
            "\n",
            "Precision score on train data:  0.7342138020870859\n",
            "Precision score on test data:  0.6489390838441552\n",
            "\n",
            "F1 score on train data:  0.731993602921203\n",
            "F1 score on test data:  0.6448504755182449\n"
          ]
        }
      ]
    },
    {
      "cell_type": "markdown",
      "source": [
        "## Training process\n"
      ],
      "metadata": {
        "id": "0gdAyo-0j96D"
      }
    },
    {
      "cell_type": "code",
      "source": [
        "new_doc = \"\"\"\n",
        "\"Be confident in your heritage. Be confident in your blackness,\" President Barack Obama told graduates and their families at Howard University's 2016 Commencement Ceremony. It was one of many moments in a speech that honored the achievements of black folks — many Howard alumni — and called on graduates to get and stay politically active. His speech was met with laughter, generous applause, and largely positive reviews. Paul Holston, editor-in-chief of Howard's student newspaper The Hilltop, wrote that Obama's address was \"strong, eloquent, and inspirational,\" and would \"go down as one of the most significant moments in Howard University's history.\"\n",
        "\n",
        "Where Does The 'Pull Up Your Pants' School Of Black Politics Come From?\n",
        "CODE SWITCH\n",
        "Where Does The 'Pull Up Your Pants' School Of Black Politics Come From?\n",
        "Howard students weren't the only ones cheering over the speech. Janell Ross at The Washington Post lauded Obama's call for \"empathy and [an] expanded moral imagination\" as one of the few surprising and thought-provoking messages that graduates will receive this season. On Twitter, Slate writer Jamelle Bouie called the speech \"a great mediation on democracy AND a celebration of black life.\" Mathew Rodriguez at Mic described Obama's speech as \"one of the best and blackest he's given.\"\n",
        "\n",
        "Melissa Harris-Perry, editor-at-large of Elle, wrote that Obama's speech was remarkable in its treatment of gender as well as race, and proved \"that he is our most black, feminist president to date\" by highlighting the genius of black women like Lorraine Hansberry, Harriet Tubman, Fannie Lou Hamer and Zora Neale Hurston:\n",
        "\n",
        "\"Once again, [Obama] put black women at the very center of the stories he told and the lessons he imparted. As he warmed up, he jokingly referred to 'Shonda Rhimes owning Thursday night' and 'Beyonce running the world.' They were casual references, not central themes of his talk, but even here he deployed two boss black women as representatives of black excellence and achievement.\"\n",
        "\n",
        "The tone surprised some African-Americans who had been critical of what they see as the president's habit of talking down to primarily black crowds. The last time Obama spoke at an HBCU's commencement was at Morehouse College in 2013, where he was criticized for promoting a finger-wagging brand of respectability politics with remarks like these:\n",
        "\n",
        "\"Just as Morehouse has taught you to expect more of yourselves, inspire those who look up to you to expect more of themselves. We know that too many young men in our community continue to make bad choices. And I have to say, growing up, I made quite a few myself. Sometimes I wrote off my own failings as just another example of the world trying to keep a black man down. I had a tendency sometimes to make excuses for me not doing the right thing. But one of the things that all of you have learned over the last four years is there's no longer any room for excuses.\"\n",
        "\n",
        "Ta-Nehisi Coates responded to that speech by calling out what he saw as the double standard Obama used in addressing African-Americans. In a piece called \"How the Obama Administration Talks to Black America,\" Coates wrote that the president acts like someone \"who sees holding African Americans to a standard of individual responsibility as part of his job. This is not a role Barack Obama undertakes with other communities.\"\n",
        "\n",
        "Some observers who were worried that the president might affect the same scolding posture at Howard were pleased, if not entirely won over. Michael P. Jeffries, over at The Boston Globe, said that the Howard speech was more earnest in its depiction of structural inequality:\n",
        "\n",
        "\"...noting that a black woman is only paid 66 cents for every $1 earned by an equally qualified white man, and that mass incarceration has exploded since [Obama's] college days. In one striking passage, he reminded the audience: 'We have cousins and uncles and brothers and sisters who we remember were just as smart and just as talented as we were, but somehow got ground down by structures that are unfair and unjust.' Rather than individual failings, Obama shifted responsibility away from black families and toward the institutions that produce black suffering.\"\n",
        "\n",
        "Still, Jeffries observes \"how much further [Obama] has to go\" to fairly depict race in America. In his speech, Obama praises Black Lives Matter activist Brittany Packnett as someone who broke with the orthodoxy of her movement to enact change. But, according to Jeffries:\n",
        "\n",
        "\"What Obama left out is that Packnett is not an anomaly among Black Lives Matter leadership. Protesters have interrupted campaign events for Hillary Clinton, Bernie Sanders, and Donald Trump, but activist DeRay McKesson certainly believes in voting: He ran for mayor of Baltimore. The Chicago-based Black Youth Project has protested mayor Rahm Emanuel and held rallies in the name of Rekia Boyd and other victims of police violence. The organization has also published research reports, and its directors have worked with several well established and likeminded groups, including the NAACP.\n",
        "\n",
        "So, in many respects, Black Lives Matter is already living out the charge put forth by the president.\"\n",
        "\n",
        "Clarence B. Jones, at HuffPost Black Voices, wrote that \"the content of what President Obama said, and the way in which he spoke it were engaging; at times, powerfully moving.\" But he agreed with Jeffries's sentiment that the president undersold the accomplishments of the BLM movement when he chastised young people for not turning out to vote in midterm elections:\n",
        "\n",
        "\"It is not enough to patronizingly lecture that 'the perfect' 'should not be the enemy of the good or the better.' He should have not just singled out Brittany Packnett, a leader in the Black Lives Matter Movement, for praise in meeting with him and other establishment political leaders. He should have said, flat out, like 'Straight Outta Compton,' that leaders of the Movement, like Dr. King earlier, had forced America's conscience to confront the reality of successive police shootings of black men, in several circumstances where the use of non-lethal force appeared to be an available option to effect an arrest.\n",
        "\n",
        "In effect, President Obama should have acknowledged that he AND ALL America owe a debt of gratitude to the courage and leadership of the Black Lives Matter movement in highlighting the apparent systemic racism in our criminal justice system when applied to African-Americans in several or our communities, nationwide.\"\n",
        "\n",
        "BLM activists themselves had some things to say about Obama's speech. DeRay McKesson tweeted his approval of the president's remarks, but also warned about oversimplifying the message:\n",
        "\n",
        "\"Obama's commencement speech at HowardU today was important, as we both reflected on the past in blackness and our future. Obama's speech was complicated, as he noted the role of compromise in the work of progress, while maintains a commitment to one's values. Obama also rightly noted that awareness is not the win, but is the initial work that creates space for later wins. [He] also noted the work of activists like [Brittany Packnett], noting that we will have to be intentional in how we change systems/structures. In many ways, this speech echoed themes he offered when [she and I] met with him a month ago. He is becoming more explicit re: discussing blackness.\"\n",
        "\n",
        "McKesson continued:\n",
        "\n",
        "\"We protest to change the world, not to continue protesting until the end of time. Awareness must lead to work focused on concrete solutions. Obama's focus on voting was not an indictment of the movement, of protest, or of organizing. Don't reduce his speech to this stale reading.\"\n",
        "\n",
        "Still, others weren't blown away by the speech. Maya Rhodan at Time magazine described Obama's Howard speech as another replica from the \"mold he often leans on in remarks to black audiences.\" She offered up the president's time-tested speech recipe: \"a nod to our nation's racial history, a pit-stop on his presidency, and a call to pay it forward.\"\n",
        "\n",
        "In Commencement Speech, Obama Advises Howard University Grads On Creating Change\n",
        "THE TWO-WAY\n",
        "In Commencement Speech, Obama Advises Howard University Grads On Creating Change\n",
        "Over at The Guardian, Steven W. Thrasher reflected that \"part of Obama's genius as our first black president is that he can provoke so many responses...even in the course of a single speech.\" But that genius is complicated. Thrasher was inspired by Obama's address until \"respectability politics started to creep in,\" and the president began urging the crowd to empathize with \"the refugee, the immigrant, the rural poor, the transgender person and yes, the middle-aged white guy who you may think has all the advantages, but over the last several decades has seen his world upended by economic and cultural and technological change and feels powerless to stop it.\" Here's more from Thrasher:\n",
        "\n",
        "\"Why did the nation's first black president feel the need to equate the transgender person who can't use the bathroom in North Carolina, and the unfairly maligned immigrant with that 'middle-aged white guy'?\n",
        "\n",
        "Who feels so threatened by the 'cultural' change of living under a black president and living under conditions a little more like those black Americans have endured for hundreds of years that he's likely voting for Donald Trump?\n",
        "\n",
        "Who isn't losing all of his white privilege, because he still has a black president telling black grads to get in his head?\n",
        "\"\"\""
      ],
      "metadata": {
        "id": "swmpuFQLj--V"
      },
      "execution_count": null,
      "outputs": []
    },
    {
      "cell_type": "code",
      "source": [
        "doc_list = []\n",
        "doc_list.append(new_doc)\n",
        "doc_test = vecto.transform(doc_list)\n",
        "return_pred = multinb.predict(doc_test)\n",
        "\n",
        "label.inverse_transform(return_pred) #### Result"
      ],
      "metadata": {
        "colab": {
          "base_uri": "https://localhost:8080/"
        },
        "id": "Q3bPqFA6kCOv",
        "outputId": "5f71d713-dcbc-4785-e9da-48aebe81b8ca"
      },
      "execution_count": null,
      "outputs": [
        {
          "output_type": "execute_result",
          "data": {
            "text/plain": [
              "array(['BLACK VOICES'], dtype=object)"
            ]
          },
          "metadata": {},
          "execution_count": 35
        }
      ]
    }
  ]
}