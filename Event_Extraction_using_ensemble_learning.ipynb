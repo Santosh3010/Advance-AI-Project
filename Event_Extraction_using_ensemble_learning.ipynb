{
 "cells": [
  {
   "cell_type": "markdown",
   "metadata": {
    "colab_type": "text",
    "id": "view-in-github"
   },
   "source": [
    "<a href=\"https://colab.research.google.com/github/Santosh3010/Advance-AI-Project/blob/main/AAI_Event_Extraction.ipynb\" target=\"_parent\"><img src=\"https://colab.research.google.com/assets/colab-badge.svg\" alt=\"Open In Colab\"/></a>"
   ]
  },
  {
   "cell_type": "code",
   "execution_count": 113,
   "metadata": {
    "colab": {
     "base_uri": "https://localhost:8080/"
    },
    "id": "LR7RK-ejVF9D",
    "outputId": "00952cf1-acdc-4c8a-b34d-cfbcfcb59acd"
   },
   "outputs": [
    {
     "name": "stderr",
     "output_type": "stream",
     "text": [
      "[nltk_data] Downloading package stopwords to\n",
      "[nltk_data]     C:\\Users\\Thor\\AppData\\Roaming\\nltk_data...\n",
      "[nltk_data]   Package stopwords is already up-to-date!\n",
      "[nltk_data] Downloading package punkt to\n",
      "[nltk_data]     C:\\Users\\Thor\\AppData\\Roaming\\nltk_data...\n",
      "[nltk_data]   Package punkt is already up-to-date!\n"
     ]
    }
   ],
   "source": [
    "#import the libraries\n",
    "import pandas as pd\n",
    "import numpy as np\n",
    "import matplotlib.pyplot as plt\n",
    "import seaborn as sns\n",
    "import re\n",
    "import nltk\n",
    "nltk.download('stopwords')\n",
    "nltk.download('punkt')\n",
    "from nltk.corpus import stopwords\n",
    "from nltk.stem.porter import PorterStemmer\n",
    "from sklearn.utils import resample\n",
    "import string\n",
    "#sklearn package \n",
    "from sklearn.model_selection import train_test_split\n",
    "from sklearn.feature_extraction.text import TfidfVectorizer\n",
    "from sklearn. preprocessing import LabelEncoder,StandardScaler\n",
    "import sklearn.feature_selection\n",
    "\n",
    "from sklearn.decomposition import TruncatedSVD\n",
    "from sklearn.pipeline import Pipeline\n",
    "from sklearn.naive_bayes import ComplementNB,MultinomialNB,GaussianNB \n",
    "\n",
    "from sklearn.model_selection import cross_val_score\n",
    "from sklearn.model_selection import RepeatedStratifiedKFold\n",
    "from sklearn.svm import SVC\n",
    "from sklearn.linear_model import LogisticRegression\n",
    "from sklearn.model_selection import GridSearchCV\n",
    "\n",
    "from sklearn.ensemble import GradientBoostingClassifier\n",
    "\n",
    "#model evaluation\n",
    "from sklearn.metrics import accuracy_score,classification_report, confusion_matrix,recall_score,precision_score,f1_score\n"
   ]
  },
  {
   "cell_type": "code",
   "execution_count": 114,
   "metadata": {
    "colab": {
     "base_uri": "https://localhost:8080/"
    },
    "id": "nLSGnmukfZyf",
    "outputId": "e10d4521-bee8-451d-ba2b-db1de26abeac"
   },
   "outputs": [
    {
     "data": {
      "text/plain": [
       "Index(['category', 'headline', 'authors', 'link', 'short_description', 'date'], dtype='object')"
      ]
     },
     "execution_count": 114,
     "metadata": {},
     "output_type": "execute_result"
    }
   ],
   "source": [
    "#read the dataset\n",
    "data = pd.read_json('News_Category_Dataset_v2.json',lines=True) # lines for avoid the trailing error\n",
    "column = data.columns\n",
    "column"
   ]
  },
  {
   "cell_type": "markdown",
   "metadata": {
    "id": "_fW5OkvVf7DS"
   },
   "source": [
    "## Data Inspection\n"
   ]
  },
  {
   "cell_type": "code",
   "execution_count": 115,
   "metadata": {
    "colab": {
     "base_uri": "https://localhost:8080/",
     "height": 337
    },
    "id": "-tmpTBPxf3yP",
    "outputId": "4b2a5439-22db-4258-f352-431d65542484"
   },
   "outputs": [
    {
     "data": {
      "text/html": [
       "<div>\n",
       "<style scoped>\n",
       "    .dataframe tbody tr th:only-of-type {\n",
       "        vertical-align: middle;\n",
       "    }\n",
       "\n",
       "    .dataframe tbody tr th {\n",
       "        vertical-align: top;\n",
       "    }\n",
       "\n",
       "    .dataframe thead th {\n",
       "        text-align: right;\n",
       "    }\n",
       "</style>\n",
       "<table border=\"1\" class=\"dataframe\">\n",
       "  <thead>\n",
       "    <tr style=\"text-align: right;\">\n",
       "      <th></th>\n",
       "      <th>category</th>\n",
       "      <th>headline</th>\n",
       "      <th>authors</th>\n",
       "      <th>link</th>\n",
       "      <th>short_description</th>\n",
       "      <th>date</th>\n",
       "    </tr>\n",
       "  </thead>\n",
       "  <tbody>\n",
       "    <tr>\n",
       "      <th>0</th>\n",
       "      <td>CRIME</td>\n",
       "      <td>There Were 2 Mass Shootings In Texas Last Week...</td>\n",
       "      <td>Melissa Jeltsen</td>\n",
       "      <td>https://www.huffingtonpost.com/entry/texas-ama...</td>\n",
       "      <td>She left her husband. He killed their children...</td>\n",
       "      <td>2018-05-26</td>\n",
       "    </tr>\n",
       "    <tr>\n",
       "      <th>1</th>\n",
       "      <td>ENTERTAINMENT</td>\n",
       "      <td>Will Smith Joins Diplo And Nicky Jam For The 2...</td>\n",
       "      <td>Andy McDonald</td>\n",
       "      <td>https://www.huffingtonpost.com/entry/will-smit...</td>\n",
       "      <td>Of course it has a song.</td>\n",
       "      <td>2018-05-26</td>\n",
       "    </tr>\n",
       "    <tr>\n",
       "      <th>2</th>\n",
       "      <td>ENTERTAINMENT</td>\n",
       "      <td>Hugh Grant Marries For The First Time At Age 57</td>\n",
       "      <td>Ron Dicker</td>\n",
       "      <td>https://www.huffingtonpost.com/entry/hugh-gran...</td>\n",
       "      <td>The actor and his longtime girlfriend Anna Ebe...</td>\n",
       "      <td>2018-05-26</td>\n",
       "    </tr>\n",
       "    <tr>\n",
       "      <th>3</th>\n",
       "      <td>ENTERTAINMENT</td>\n",
       "      <td>Jim Carrey Blasts 'Castrato' Adam Schiff And D...</td>\n",
       "      <td>Ron Dicker</td>\n",
       "      <td>https://www.huffingtonpost.com/entry/jim-carre...</td>\n",
       "      <td>The actor gives Dems an ass-kicking for not fi...</td>\n",
       "      <td>2018-05-26</td>\n",
       "    </tr>\n",
       "    <tr>\n",
       "      <th>4</th>\n",
       "      <td>ENTERTAINMENT</td>\n",
       "      <td>Julianna Margulies Uses Donald Trump Poop Bags...</td>\n",
       "      <td>Ron Dicker</td>\n",
       "      <td>https://www.huffingtonpost.com/entry/julianna-...</td>\n",
       "      <td>The \"Dietland\" actress said using the bags is ...</td>\n",
       "      <td>2018-05-26</td>\n",
       "    </tr>\n",
       "  </tbody>\n",
       "</table>\n",
       "</div>"
      ],
      "text/plain": [
       "        category                                           headline  \\\n",
       "0          CRIME  There Were 2 Mass Shootings In Texas Last Week...   \n",
       "1  ENTERTAINMENT  Will Smith Joins Diplo And Nicky Jam For The 2...   \n",
       "2  ENTERTAINMENT    Hugh Grant Marries For The First Time At Age 57   \n",
       "3  ENTERTAINMENT  Jim Carrey Blasts 'Castrato' Adam Schiff And D...   \n",
       "4  ENTERTAINMENT  Julianna Margulies Uses Donald Trump Poop Bags...   \n",
       "\n",
       "           authors                                               link  \\\n",
       "0  Melissa Jeltsen  https://www.huffingtonpost.com/entry/texas-ama...   \n",
       "1    Andy McDonald  https://www.huffingtonpost.com/entry/will-smit...   \n",
       "2       Ron Dicker  https://www.huffingtonpost.com/entry/hugh-gran...   \n",
       "3       Ron Dicker  https://www.huffingtonpost.com/entry/jim-carre...   \n",
       "4       Ron Dicker  https://www.huffingtonpost.com/entry/julianna-...   \n",
       "\n",
       "                                   short_description       date  \n",
       "0  She left her husband. He killed their children... 2018-05-26  \n",
       "1                           Of course it has a song. 2018-05-26  \n",
       "2  The actor and his longtime girlfriend Anna Ebe... 2018-05-26  \n",
       "3  The actor gives Dems an ass-kicking for not fi... 2018-05-26  \n",
       "4  The \"Dietland\" actress said using the bags is ... 2018-05-26  "
      ]
     },
     "execution_count": 115,
     "metadata": {},
     "output_type": "execute_result"
    }
   ],
   "source": [
    "data.head(5)"
   ]
  },
  {
   "cell_type": "code",
   "execution_count": 116,
   "metadata": {
    "colab": {
     "base_uri": "https://localhost:8080/"
    },
    "id": "vxDwq5qaf-kt",
    "outputId": "a8e9bfbd-5910-492b-c2f4-86853c026442"
   },
   "outputs": [
    {
     "data": {
      "text/plain": [
       "13"
      ]
     },
     "execution_count": 116,
     "metadata": {},
     "output_type": "execute_result"
    }
   ],
   "source": [
    "#delete the dublicate values\n",
    "data.duplicated().sum() # count the total duplicate samples"
   ]
  },
  {
   "cell_type": "code",
   "execution_count": 117,
   "metadata": {
    "colab": {
     "base_uri": "https://localhost:8080/"
    },
    "id": "Henr5CzCg1DM",
    "outputId": "16225612-184a-488a-bba3-58112fbfb9d9"
   },
   "outputs": [
    {
     "data": {
      "text/plain": [
       "488"
      ]
     },
     "execution_count": 117,
     "metadata": {},
     "output_type": "execute_result"
    }
   ],
   "source": [
    "#there can be dublicate of author names so check for the dublicate headline and short discription\n",
    "data.duplicated(subset=['headline', 'short_description']).sum()"
   ]
  },
  {
   "cell_type": "code",
   "execution_count": 118,
   "metadata": {
    "id": "d0Q_8z2yhBkz"
   },
   "outputs": [],
   "source": [
    "# Drop duplicates with empty headline or empty description\n",
    "data.drop_duplicates(subset=['headline', 'short_description'],inplace=True,keep='last')"
   ]
  },
  {
   "cell_type": "code",
   "execution_count": 119,
   "metadata": {
    "colab": {
     "base_uri": "https://localhost:8080/",
     "height": 292
    },
    "id": "spYt_-sAhD_z",
    "outputId": "0ca0e534-888e-45b5-9e03-52283a8476dd"
   },
   "outputs": [
    {
     "name": "stderr",
     "output_type": "stream",
     "text": [
      "C:\\Users\\Thor\\AppData\\Local\\Temp/ipykernel_27588/3175101911.py:1: FutureWarning: Treating datetime data as categorical rather than numeric in `.describe` is deprecated and will be removed in a future version of pandas. Specify `datetime_is_numeric=True` to silence this warning and adopt the future behavior now.\n",
      "  data.describe()\n"
     ]
    },
    {
     "data": {
      "text/html": [
       "<div>\n",
       "<style scoped>\n",
       "    .dataframe tbody tr th:only-of-type {\n",
       "        vertical-align: middle;\n",
       "    }\n",
       "\n",
       "    .dataframe tbody tr th {\n",
       "        vertical-align: top;\n",
       "    }\n",
       "\n",
       "    .dataframe thead th {\n",
       "        text-align: right;\n",
       "    }\n",
       "</style>\n",
       "<table border=\"1\" class=\"dataframe\">\n",
       "  <thead>\n",
       "    <tr style=\"text-align: right;\">\n",
       "      <th></th>\n",
       "      <th>category</th>\n",
       "      <th>headline</th>\n",
       "      <th>authors</th>\n",
       "      <th>link</th>\n",
       "      <th>short_description</th>\n",
       "      <th>date</th>\n",
       "    </tr>\n",
       "  </thead>\n",
       "  <tbody>\n",
       "    <tr>\n",
       "      <th>count</th>\n",
       "      <td>200365</td>\n",
       "      <td>200365</td>\n",
       "      <td>200365</td>\n",
       "      <td>200365</td>\n",
       "      <td>200365</td>\n",
       "      <td>200365</td>\n",
       "    </tr>\n",
       "    <tr>\n",
       "      <th>unique</th>\n",
       "      <td>41</td>\n",
       "      <td>199344</td>\n",
       "      <td>27986</td>\n",
       "      <td>200341</td>\n",
       "      <td>178353</td>\n",
       "      <td>2309</td>\n",
       "    </tr>\n",
       "    <tr>\n",
       "      <th>top</th>\n",
       "      <td>POLITICS</td>\n",
       "      <td>Sunday Roundup</td>\n",
       "      <td></td>\n",
       "      <td>https://www.huffingtonpost.comhttp://testkitch...</td>\n",
       "      <td></td>\n",
       "      <td>2012-07-18 00:00:00</td>\n",
       "    </tr>\n",
       "    <tr>\n",
       "      <th>freq</th>\n",
       "      <td>32719</td>\n",
       "      <td>90</td>\n",
       "      <td>36514</td>\n",
       "      <td>2</td>\n",
       "      <td>19611</td>\n",
       "      <td>100</td>\n",
       "    </tr>\n",
       "    <tr>\n",
       "      <th>first</th>\n",
       "      <td>NaN</td>\n",
       "      <td>NaN</td>\n",
       "      <td>NaN</td>\n",
       "      <td>NaN</td>\n",
       "      <td>NaN</td>\n",
       "      <td>2012-01-28 00:00:00</td>\n",
       "    </tr>\n",
       "    <tr>\n",
       "      <th>last</th>\n",
       "      <td>NaN</td>\n",
       "      <td>NaN</td>\n",
       "      <td>NaN</td>\n",
       "      <td>NaN</td>\n",
       "      <td>NaN</td>\n",
       "      <td>2018-05-26 00:00:00</td>\n",
       "    </tr>\n",
       "  </tbody>\n",
       "</table>\n",
       "</div>"
      ],
      "text/plain": [
       "        category        headline authors  \\\n",
       "count     200365          200365  200365   \n",
       "unique        41          199344   27986   \n",
       "top     POLITICS  Sunday Roundup           \n",
       "freq       32719              90   36514   \n",
       "first        NaN             NaN     NaN   \n",
       "last         NaN             NaN     NaN   \n",
       "\n",
       "                                                     link short_description  \\\n",
       "count                                              200365            200365   \n",
       "unique                                             200341            178353   \n",
       "top     https://www.huffingtonpost.comhttp://testkitch...                     \n",
       "freq                                                    2             19611   \n",
       "first                                                 NaN               NaN   \n",
       "last                                                  NaN               NaN   \n",
       "\n",
       "                       date  \n",
       "count                200365  \n",
       "unique                 2309  \n",
       "top     2012-07-18 00:00:00  \n",
       "freq                    100  \n",
       "first   2012-01-28 00:00:00  \n",
       "last    2018-05-26 00:00:00  "
      ]
     },
     "execution_count": 119,
     "metadata": {},
     "output_type": "execute_result"
    }
   ],
   "source": [
    "data.describe()"
   ]
  },
  {
   "cell_type": "code",
   "execution_count": null,
   "metadata": {
    "id": "X-wP5_UAhI-r"
   },
   "outputs": [],
   "source": []
  },
  {
   "cell_type": "markdown",
   "metadata": {
    "id": "23LFS9GIhJbr"
   },
   "source": [
    "#Handling null data\n"
   ]
  },
  {
   "cell_type": "code",
   "execution_count": 120,
   "metadata": {
    "colab": {
     "base_uri": "https://localhost:8080/"
    },
    "id": "K9VkO55PhKqI",
    "outputId": "09ea18e6-5f8c-4e9a-f296-6632ac1b75a4"
   },
   "outputs": [
    {
     "data": {
      "text/plain": [
       "category             0\n",
       "headline             0\n",
       "authors              0\n",
       "link                 0\n",
       "short_description    0\n",
       "date                 0\n",
       "dtype: int64"
      ]
     },
     "execution_count": 120,
     "metadata": {},
     "output_type": "execute_result"
    }
   ],
   "source": [
    "data.isnull().sum()"
   ]
  },
  {
   "cell_type": "code",
   "execution_count": 121,
   "metadata": {
    "colab": {
     "base_uri": "https://localhost:8080/",
     "height": 191
    },
    "id": "-j-CcAhShNlE",
    "outputId": "d195818c-d276-432b-9e7d-529446c86864"
   },
   "outputs": [
    {
     "data": {
      "text/html": [
       "<div>\n",
       "<style scoped>\n",
       "    .dataframe tbody tr th:only-of-type {\n",
       "        vertical-align: middle;\n",
       "    }\n",
       "\n",
       "    .dataframe tbody tr th {\n",
       "        vertical-align: top;\n",
       "    }\n",
       "\n",
       "    .dataframe thead th {\n",
       "        text-align: right;\n",
       "    }\n",
       "</style>\n",
       "<table border=\"1\" class=\"dataframe\">\n",
       "  <thead>\n",
       "    <tr style=\"text-align: right;\">\n",
       "      <th></th>\n",
       "      <th>category</th>\n",
       "      <th>headline</th>\n",
       "      <th>authors</th>\n",
       "      <th>link</th>\n",
       "      <th>short_description</th>\n",
       "      <th>date</th>\n",
       "    </tr>\n",
       "  </thead>\n",
       "  <tbody>\n",
       "    <tr>\n",
       "      <th>86893</th>\n",
       "      <td>RELIGION</td>\n",
       "      <td></td>\n",
       "      <td>Matthew Fox, ContributorRadical theologian Mat...</td>\n",
       "      <td>https://www.huffingtonpost.com/entry/post_9671...</td>\n",
       "      <td>Let everyone not wrapped in tired and disprove...</td>\n",
       "      <td>2015-06-30</td>\n",
       "    </tr>\n",
       "    <tr>\n",
       "      <th>113471</th>\n",
       "      <td>QUEER VOICES</td>\n",
       "      <td></td>\n",
       "      <td>Gary Snyder, ContributorWriter and Media Strat...</td>\n",
       "      <td>https://www.huffingtonpost.com/entry/beverly-h...</td>\n",
       "      <td></td>\n",
       "      <td>2014-08-28</td>\n",
       "    </tr>\n",
       "  </tbody>\n",
       "</table>\n",
       "</div>"
      ],
      "text/plain": [
       "            category headline  \\\n",
       "86893       RELIGION            \n",
       "113471  QUEER VOICES            \n",
       "\n",
       "                                                  authors  \\\n",
       "86893   Matthew Fox, ContributorRadical theologian Mat...   \n",
       "113471  Gary Snyder, ContributorWriter and Media Strat...   \n",
       "\n",
       "                                                     link  \\\n",
       "86893   https://www.huffingtonpost.com/entry/post_9671...   \n",
       "113471  https://www.huffingtonpost.com/entry/beverly-h...   \n",
       "\n",
       "                                        short_description       date  \n",
       "86893   Let everyone not wrapped in tired and disprove... 2015-06-30  \n",
       "113471                                                    2014-08-28  "
      ]
     },
     "execution_count": 121,
     "metadata": {},
     "output_type": "execute_result"
    }
   ],
   "source": [
    "# there is no null value instead of null they are blank so we need to check for the blank placess and delete that\n",
    "data[data['headline'] == '']"
   ]
  },
  {
   "cell_type": "code",
   "execution_count": 122,
   "metadata": {
    "colab": {
     "base_uri": "https://localhost:8080/"
    },
    "id": "c0mj0n1nhTZP",
    "outputId": "4eb65176-0128-49a0-cdc4-28aaef780bdb"
   },
   "outputs": [
    {
     "name": "stdout",
     "output_type": "stream",
     "text": [
      "THe length of the datset ------> (200363, 6)\n"
     ]
    }
   ],
   "source": [
    "# drop the blank values\n",
    "headline_blank = data['headline'] == ''\n",
    "data = data[~headline_blank]\n",
    "print(\"THe length of the datset ------>\",data.shape)"
   ]
  },
  {
   "cell_type": "code",
   "execution_count": 123,
   "metadata": {
    "colab": {
     "base_uri": "https://localhost:8080/"
    },
    "id": "E9tJSewWhXpC",
    "outputId": "61ed969c-2c30-414a-ad11-e3f41050e14f"
   },
   "outputs": [
    {
     "name": "stdout",
     "output_type": "stream",
     "text": [
      "the lenth of the blank description samples-----> 19610\n",
      "THe length of the datset ----------------------> (180753, 6)\n"
     ]
    }
   ],
   "source": [
    "#drop the blank short describtion column\n",
    "description_blank = data['short_description']==''\n",
    "print(\"the lenth of the blank description samples----->\",len(data[description_blank]))\n",
    "data = data[~description_blank]\n",
    "print(\"THe length of the datset ---------------------->\",data.shape)"
   ]
  },
  {
   "cell_type": "code",
   "execution_count": null,
   "metadata": {},
   "outputs": [],
   "source": []
  },
  {
   "cell_type": "markdown",
   "metadata": {
    "id": "VBkhGZggEqgf"
   },
   "source": [
    "## Balance datasets and process text"
   ]
  },
  {
   "cell_type": "markdown",
   "metadata": {
    "id": "fo1GzS4-hh75"
   },
   "source": [
    "### Balance the Category Data\n"
   ]
  },
  {
   "cell_type": "code",
   "execution_count": 124,
   "metadata": {
    "colab": {
     "base_uri": "https://localhost:8080/"
    },
    "id": "EnijuIZmhm3a",
    "outputId": "20bc2386-3d12-4191-991f-d2ff76e3171c"
   },
   "outputs": [
    {
     "data": {
      "text/plain": [
       "['POLITICS',\n",
       " 'WELLNESS',\n",
       " 'ENTERTAINMENT',\n",
       " 'STYLE & BEAUTY',\n",
       " 'TRAVEL',\n",
       " 'PARENTING',\n",
       " 'FOOD & DRINK',\n",
       " 'QUEER VOICES',\n",
       " 'HEALTHY LIVING',\n",
       " 'BUSINESS',\n",
       " 'COMEDY',\n",
       " 'SPORTS',\n",
       " 'HOME & LIVING',\n",
       " 'BLACK VOICES',\n",
       " 'THE WORLDPOST',\n",
       " 'WEDDINGS',\n",
       " 'PARENTS',\n",
       " 'DIVORCE',\n",
       " 'IMPACT',\n",
       " 'WOMEN',\n",
       " 'CRIME',\n",
       " 'MEDIA',\n",
       " 'WEIRD NEWS',\n",
       " 'WORLD NEWS',\n",
       " 'GREEN',\n",
       " 'TECH',\n",
       " 'TASTE',\n",
       " 'RELIGION',\n",
       " 'SCIENCE',\n",
       " 'MONEY',\n",
       " 'STYLE',\n",
       " 'ARTS & CULTURE',\n",
       " 'ENVIRONMENT',\n",
       " 'WORLDPOST',\n",
       " 'FIFTY',\n",
       " 'GOOD NEWS',\n",
       " 'LATINO VOICES',\n",
       " 'CULTURE & ARTS',\n",
       " 'COLLEGE',\n",
       " 'EDUCATION',\n",
       " 'ARTS']"
      ]
     },
     "execution_count": 124,
     "metadata": {},
     "output_type": "execute_result"
    }
   ],
   "source": [
    "category = data['category'].value_counts()\n",
    "list(category.index)"
   ]
  },
  {
   "cell_type": "code",
   "execution_count": 125,
   "metadata": {
    "id": "4W5Wjutrhn9T"
   },
   "outputs": [],
   "source": [
    "cateo_keep = (data['category'] == 'POLITICS') | (data['category'] == 'WELLNESS' )| (data['category'] == 'ENTERTAINMENT') | (data['category'] == 'TRAVEL') | \\\n",
    "            (data['category'] == 'STYLE & BEAUTY') | (data['category'] == 'PARENTING' )| (data['category'] == 'HEALTHY LIVING') | (data['category'] == 'QUEER VOICES') | \\\n",
    "              (data['category'] == 'FOOD & DRINK') | (data['category'] == 'BUSINESS' )| (data['category'] == 'COMEDY') | (data['category'] == 'PARENTS') | (data['category'] == 'SPORTS') | (data['category'] == 'HOME & LIVING' )| (data['category'] == 'BLACK VOICES')\n",
    "data = data[cateo_keep]\n",
    "\n"
   ]
  },
  {
   "cell_type": "code",
   "execution_count": 126,
   "metadata": {
    "colab": {
     "base_uri": "https://localhost:8080/"
    },
    "id": "B7Hd4E2Qh5Oi",
    "outputId": "d6cbe7e4-7c7f-42a1-eac3-b628e5b139d8"
   },
   "outputs": [
    {
     "data": {
      "text/plain": [
       "0         False\n",
       "1          True\n",
       "2          True\n",
       "3          True\n",
       "4          True\n",
       "          ...  \n",
       "200848    False\n",
       "200849     True\n",
       "200850     True\n",
       "200851     True\n",
       "200852     True\n",
       "Name: category, Length: 180753, dtype: bool"
      ]
     },
     "execution_count": 126,
     "metadata": {},
     "output_type": "execute_result"
    }
   ],
   "source": [
    "cateo_keep"
   ]
  },
  {
   "cell_type": "code",
   "execution_count": 127,
   "metadata": {
    "id": "4Akovo2FiEar"
   },
   "outputs": [],
   "source": [
    "cateo_keep = (data['category'] == 'POLITICS') | (data['category'] == 'WELLNESS' )| (data['category'] == 'ENTERTAINMENT') | (data['category'] == 'TRAVEL') | \\\n",
    "            (data['category'] == 'STYLE & BEAUTY') | (data['category'] == 'PARENTING' )| (data['category'] == 'HEALTHY LIVING') | (data['category'] == 'QUEER VOICES') | \\\n",
    "              (data['category'] == 'FOOD & DRINK') | (data['category'] == 'BUSINESS' )| (data['category'] == 'COMEDY') | (data['category'] == 'PARENTS') | (data['category'] == 'SPORTS') | (data['category'] == 'HOME & LIVING' )| (data['category'] == 'BLACK VOICES')\n",
    "data = data[cateo_keep]\n",
    "\n"
   ]
  },
  {
   "cell_type": "code",
   "execution_count": 128,
   "metadata": {
    "colab": {
     "base_uri": "https://localhost:8080/"
    },
    "id": "b76GYOSZiG9D",
    "outputId": "a407e0aa-27d8-445c-e857-0d7c3e304b63"
   },
   "outputs": [
    {
     "data": {
      "text/plain": [
       "POLITICS          3000\n",
       "WELLNESS          3000\n",
       "ENTERTAINMENT     3000\n",
       "TRAVEL            3000\n",
       "STYLE & BEAUTY    3000\n",
       "PARENTING         3000\n",
       "HEALTHY LIVING    3000\n",
       "QUEER VOICES      3000\n",
       "FOOD & DRINK      3000\n",
       "BUSINESS          3000\n",
       "COMEDY            3000\n",
       "PARENTS           3000\n",
       "SPORTS            3000\n",
       "HOME & LIVING     3000\n",
       "BLACK VOICES      3000\n",
       "Name: category, dtype: int64"
      ]
     },
     "execution_count": 128,
     "metadata": {},
     "output_type": "execute_result"
    }
   ],
   "source": [
    "# To balance the data for better prediction, sample each of the category with 3000 samples\n",
    "data_1 = data[data['category'] == 'POLITICS']\n",
    "data_1 = resample(data_1, replace=False, n_samples=3000, random_state=123)\n",
    "data_2 = data[data['category'] == 'WELLNESS']\n",
    "data_2 = resample(data_2, replace=False, n_samples=3000, random_state=123)\n",
    "data_3 = data[data['category'] == 'ENTERTAINMENT']\n",
    "data_3 = resample(data_3, replace=False, n_samples=3000, random_state=123)\n",
    "data_4 = data[data['category'] == 'TRAVEL']\n",
    "data_4 = resample(data_4, replace=False, n_samples=3000, random_state=123)\n",
    "data_5 = data[data['category'] == 'STYLE & BEAUTY']\n",
    "data_5 = resample(data_5, replace=False, n_samples=3000, random_state=123)\n",
    "data_6 = data[data['category'] == 'PARENTING']\n",
    "data_6 = resample(data_6, replace=False, n_samples=3000, random_state=123)\n",
    "data_7 = data[data['category'] == 'HEALTHY LIVING']\n",
    "data_7 = resample(data_7, replace=False, n_samples=3000, random_state=123)\n",
    "data_8 = data[data['category'] == 'QUEER VOICES']\n",
    "data_8 = resample(data_8, replace=False, n_samples=3000, random_state=123)\n",
    "data_9 = data[data['category'] == 'FOOD & DRINK']\n",
    "data_9 = resample(data_9, replace=False, n_samples=3000, random_state=123)\n",
    "data_10 = data[data['category'] == 'BUSINESS']\n",
    "data_10 = resample(data_10, replace=False, n_samples=3000, random_state=123)\n",
    "data_11 = data[data['category'] == 'COMEDY']\n",
    "data_11 = resample(data_11, replace=False, n_samples=3000, random_state=123)\n",
    "data_12= data[data['category'] == 'PARENTS']\n",
    "data_12 = resample(data_12, replace=False, n_samples=3000, random_state=123)\n",
    "data_13= data[data['category'] == 'SPORTS']\n",
    "data_13 = resample(data_13, replace=False, n_samples=3000, random_state=123)\n",
    "data_14 = data[data['category'] == 'HOME & LIVING']\n",
    "data_14 = resample(data_14, replace=False, n_samples=3000, random_state=123)\n",
    "data_15 = data[data['category'] == 'BLACK VOICES']\n",
    "data_15 = resample(data_15, replace=False, n_samples=3000, random_state=123)\n",
    "\n",
    "cato_list = [data_1 , data_2 , data_3 , data_4 ,data_5 , data_6 , data_7, data_8 , data_9 , data_10, data_11 , data_12 , data_13, data_14 ,data_15]\n",
    "\n",
    "data = pd.concat(cato_list)\n",
    "data['category'].value_counts()"
   ]
  },
  {
   "cell_type": "code",
   "execution_count": 129,
   "metadata": {
    "colab": {
     "base_uri": "https://localhost:8080/",
     "height": 337
    },
    "id": "ujQdHQj0iNBg",
    "outputId": "079ca5bf-5312-4f93-b0ce-ad17ffd047e2"
   },
   "outputs": [
    {
     "data": {
      "text/html": [
       "<div>\n",
       "<style scoped>\n",
       "    .dataframe tbody tr th:only-of-type {\n",
       "        vertical-align: middle;\n",
       "    }\n",
       "\n",
       "    .dataframe tbody tr th {\n",
       "        vertical-align: top;\n",
       "    }\n",
       "\n",
       "    .dataframe thead th {\n",
       "        text-align: right;\n",
       "    }\n",
       "</style>\n",
       "<table border=\"1\" class=\"dataframe\">\n",
       "  <thead>\n",
       "    <tr style=\"text-align: right;\">\n",
       "      <th></th>\n",
       "      <th>category</th>\n",
       "      <th>headline</th>\n",
       "      <th>authors</th>\n",
       "      <th>link</th>\n",
       "      <th>short_description</th>\n",
       "      <th>date</th>\n",
       "    </tr>\n",
       "  </thead>\n",
       "  <tbody>\n",
       "    <tr>\n",
       "      <th>77976</th>\n",
       "      <td>POLITICS</td>\n",
       "      <td>Republican Activists Increasingly Favor Outsid...</td>\n",
       "      <td>Mark Blumenthal and Ariel Edwards-Levy</td>\n",
       "      <td>https://www.huffingtonpost.com/entry/republica...</td>\n",
       "      <td>Is this election an anomaly, or will the party...</td>\n",
       "      <td>2015-10-09</td>\n",
       "    </tr>\n",
       "    <tr>\n",
       "      <th>46953</th>\n",
       "      <td>POLITICS</td>\n",
       "      <td>A Crooked Wall Street Billionaire Is Crafting ...</td>\n",
       "      <td>Zach Carter</td>\n",
       "      <td>https://www.huffingtonpost.com/entry/a-crooked...</td>\n",
       "      <td>Hoo boy.</td>\n",
       "      <td>2016-09-26</td>\n",
       "    </tr>\n",
       "    <tr>\n",
       "      <th>356</th>\n",
       "      <td>POLITICS</td>\n",
       "      <td>GOP Candidate Set Up Trust That Pays His Kids ...</td>\n",
       "      <td>Mary Papenfuss</td>\n",
       "      <td>https://www.huffingtonpost.com/entry/vickers-c...</td>\n",
       "      <td>Even his own mom calls him a bigot, but former...</td>\n",
       "      <td>2018-05-19</td>\n",
       "    </tr>\n",
       "    <tr>\n",
       "      <th>106292</th>\n",
       "      <td>POLITICS</td>\n",
       "      <td>The U.S. Isn't in the Business of Bigotry, Are...</td>\n",
       "      <td>Terry O'Neill, ContributorPresident, National ...</td>\n",
       "      <td>https://www.huffingtonpost.com/entry/the-us-do...</td>\n",
       "      <td>Birth control is life-saving, life-affirming h...</td>\n",
       "      <td>2014-11-19</td>\n",
       "    </tr>\n",
       "    <tr>\n",
       "      <th>67266</th>\n",
       "      <td>POLITICS</td>\n",
       "      <td>Bernie Sanders On 'SNL' Is Everything We Hoped...</td>\n",
       "      <td>Paige Lavender</td>\n",
       "      <td>https://www.huffingtonpost.com/entry/bernie-sa...</td>\n",
       "      <td>Amazing.</td>\n",
       "      <td>2016-02-07</td>\n",
       "    </tr>\n",
       "  </tbody>\n",
       "</table>\n",
       "</div>"
      ],
      "text/plain": [
       "        category                                           headline  \\\n",
       "77976   POLITICS  Republican Activists Increasingly Favor Outsid...   \n",
       "46953   POLITICS  A Crooked Wall Street Billionaire Is Crafting ...   \n",
       "356     POLITICS  GOP Candidate Set Up Trust That Pays His Kids ...   \n",
       "106292  POLITICS  The U.S. Isn't in the Business of Bigotry, Are...   \n",
       "67266   POLITICS  Bernie Sanders On 'SNL' Is Everything We Hoped...   \n",
       "\n",
       "                                                  authors  \\\n",
       "77976              Mark Blumenthal and Ariel Edwards-Levy   \n",
       "46953                                         Zach Carter   \n",
       "356                                        Mary Papenfuss   \n",
       "106292  Terry O'Neill, ContributorPresident, National ...   \n",
       "67266                                      Paige Lavender   \n",
       "\n",
       "                                                     link  \\\n",
       "77976   https://www.huffingtonpost.com/entry/republica...   \n",
       "46953   https://www.huffingtonpost.com/entry/a-crooked...   \n",
       "356     https://www.huffingtonpost.com/entry/vickers-c...   \n",
       "106292  https://www.huffingtonpost.com/entry/the-us-do...   \n",
       "67266   https://www.huffingtonpost.com/entry/bernie-sa...   \n",
       "\n",
       "                                        short_description       date  \n",
       "77976   Is this election an anomaly, or will the party... 2015-10-09  \n",
       "46953                                            Hoo boy. 2016-09-26  \n",
       "356     Even his own mom calls him a bigot, but former... 2018-05-19  \n",
       "106292  Birth control is life-saving, life-affirming h... 2014-11-19  \n",
       "67266                                            Amazing. 2016-02-07  "
      ]
     },
     "execution_count": 129,
     "metadata": {},
     "output_type": "execute_result"
    }
   ],
   "source": [
    "data.head(5)"
   ]
  },
  {
   "cell_type": "markdown",
   "metadata": {
    "id": "NDJlf3cDiXqq"
   },
   "source": [
    "### Combining the column\n"
   ]
  },
  {
   "cell_type": "code",
   "execution_count": 130,
   "metadata": {
    "id": "xSEV5q4HiZKv"
   },
   "outputs": [],
   "source": [
    "data['text'] = data['headline']+'-'+data['short_description']"
   ]
  },
  {
   "cell_type": "code",
   "execution_count": 131,
   "metadata": {
    "colab": {
     "base_uri": "https://localhost:8080/",
     "height": 423
    },
    "id": "ApS5h7hqiZ6z",
    "outputId": "5f057144-6a5c-4271-8d65-64eb4e0ed2b0"
   },
   "outputs": [
    {
     "data": {
      "text/html": [
       "<div>\n",
       "<style scoped>\n",
       "    .dataframe tbody tr th:only-of-type {\n",
       "        vertical-align: middle;\n",
       "    }\n",
       "\n",
       "    .dataframe tbody tr th {\n",
       "        vertical-align: top;\n",
       "    }\n",
       "\n",
       "    .dataframe thead th {\n",
       "        text-align: right;\n",
       "    }\n",
       "</style>\n",
       "<table border=\"1\" class=\"dataframe\">\n",
       "  <thead>\n",
       "    <tr style=\"text-align: right;\">\n",
       "      <th></th>\n",
       "      <th>category</th>\n",
       "      <th>headline</th>\n",
       "      <th>authors</th>\n",
       "      <th>link</th>\n",
       "      <th>short_description</th>\n",
       "      <th>date</th>\n",
       "      <th>text</th>\n",
       "    </tr>\n",
       "  </thead>\n",
       "  <tbody>\n",
       "    <tr>\n",
       "      <th>77976</th>\n",
       "      <td>POLITICS</td>\n",
       "      <td>Republican Activists Increasingly Favor Outsid...</td>\n",
       "      <td>Mark Blumenthal and Ariel Edwards-Levy</td>\n",
       "      <td>https://www.huffingtonpost.com/entry/republica...</td>\n",
       "      <td>Is this election an anomaly, or will the party...</td>\n",
       "      <td>2015-10-09</td>\n",
       "      <td>Republican Activists Increasingly Favor Outsid...</td>\n",
       "    </tr>\n",
       "    <tr>\n",
       "      <th>46953</th>\n",
       "      <td>POLITICS</td>\n",
       "      <td>A Crooked Wall Street Billionaire Is Crafting ...</td>\n",
       "      <td>Zach Carter</td>\n",
       "      <td>https://www.huffingtonpost.com/entry/a-crooked...</td>\n",
       "      <td>Hoo boy.</td>\n",
       "      <td>2016-09-26</td>\n",
       "      <td>A Crooked Wall Street Billionaire Is Crafting ...</td>\n",
       "    </tr>\n",
       "    <tr>\n",
       "      <th>356</th>\n",
       "      <td>POLITICS</td>\n",
       "      <td>GOP Candidate Set Up Trust That Pays His Kids ...</td>\n",
       "      <td>Mary Papenfuss</td>\n",
       "      <td>https://www.huffingtonpost.com/entry/vickers-c...</td>\n",
       "      <td>Even his own mom calls him a bigot, but former...</td>\n",
       "      <td>2018-05-19</td>\n",
       "      <td>GOP Candidate Set Up Trust That Pays His Kids ...</td>\n",
       "    </tr>\n",
       "    <tr>\n",
       "      <th>106292</th>\n",
       "      <td>POLITICS</td>\n",
       "      <td>The U.S. Isn't in the Business of Bigotry, Are...</td>\n",
       "      <td>Terry O'Neill, ContributorPresident, National ...</td>\n",
       "      <td>https://www.huffingtonpost.com/entry/the-us-do...</td>\n",
       "      <td>Birth control is life-saving, life-affirming h...</td>\n",
       "      <td>2014-11-19</td>\n",
       "      <td>The U.S. Isn't in the Business of Bigotry, Are...</td>\n",
       "    </tr>\n",
       "    <tr>\n",
       "      <th>67266</th>\n",
       "      <td>POLITICS</td>\n",
       "      <td>Bernie Sanders On 'SNL' Is Everything We Hoped...</td>\n",
       "      <td>Paige Lavender</td>\n",
       "      <td>https://www.huffingtonpost.com/entry/bernie-sa...</td>\n",
       "      <td>Amazing.</td>\n",
       "      <td>2016-02-07</td>\n",
       "      <td>Bernie Sanders On 'SNL' Is Everything We Hoped...</td>\n",
       "    </tr>\n",
       "  </tbody>\n",
       "</table>\n",
       "</div>"
      ],
      "text/plain": [
       "        category                                           headline  \\\n",
       "77976   POLITICS  Republican Activists Increasingly Favor Outsid...   \n",
       "46953   POLITICS  A Crooked Wall Street Billionaire Is Crafting ...   \n",
       "356     POLITICS  GOP Candidate Set Up Trust That Pays His Kids ...   \n",
       "106292  POLITICS  The U.S. Isn't in the Business of Bigotry, Are...   \n",
       "67266   POLITICS  Bernie Sanders On 'SNL' Is Everything We Hoped...   \n",
       "\n",
       "                                                  authors  \\\n",
       "77976              Mark Blumenthal and Ariel Edwards-Levy   \n",
       "46953                                         Zach Carter   \n",
       "356                                        Mary Papenfuss   \n",
       "106292  Terry O'Neill, ContributorPresident, National ...   \n",
       "67266                                      Paige Lavender   \n",
       "\n",
       "                                                     link  \\\n",
       "77976   https://www.huffingtonpost.com/entry/republica...   \n",
       "46953   https://www.huffingtonpost.com/entry/a-crooked...   \n",
       "356     https://www.huffingtonpost.com/entry/vickers-c...   \n",
       "106292  https://www.huffingtonpost.com/entry/the-us-do...   \n",
       "67266   https://www.huffingtonpost.com/entry/bernie-sa...   \n",
       "\n",
       "                                        short_description       date  \\\n",
       "77976   Is this election an anomaly, or will the party... 2015-10-09   \n",
       "46953                                            Hoo boy. 2016-09-26   \n",
       "356     Even his own mom calls him a bigot, but former... 2018-05-19   \n",
       "106292  Birth control is life-saving, life-affirming h... 2014-11-19   \n",
       "67266                                            Amazing. 2016-02-07   \n",
       "\n",
       "                                                     text  \n",
       "77976   Republican Activists Increasingly Favor Outsid...  \n",
       "46953   A Crooked Wall Street Billionaire Is Crafting ...  \n",
       "356     GOP Candidate Set Up Trust That Pays His Kids ...  \n",
       "106292  The U.S. Isn't in the Business of Bigotry, Are...  \n",
       "67266   Bernie Sanders On 'SNL' Is Everything We Hoped...  "
      ]
     },
     "execution_count": 131,
     "metadata": {},
     "output_type": "execute_result"
    }
   ],
   "source": [
    "data.head(5)"
   ]
  },
  {
   "cell_type": "markdown",
   "metadata": {
    "id": "GZ4tg-YTE-2O"
   },
   "source": [
    "### Cleaning Text by remove stop words, all lower case, remove url, keep only characters "
   ]
  },
  {
   "cell_type": "code",
   "execution_count": 132,
   "metadata": {
    "id": "Xq5te0q5i0mE"
   },
   "outputs": [],
   "source": [
    "#drop the other columns\n",
    "data.drop(['authors','headline','short_description'],axis=1,inplace=True)"
   ]
  },
  {
   "cell_type": "code",
   "execution_count": 133,
   "metadata": {
    "id": "8GmIc0C2E4hn"
   },
   "outputs": [],
   "source": [
    "\n",
    "def clean_text(text):\n",
    "    text = text.lower()                                  # lower-case all characters\n",
    "    text =  re.sub(r'@\\S+', '',text)                     # remove twitter handles\n",
    "    text =  re.sub(r'http\\S+', '',text)                  # remove urls\n",
    "    text =  re.sub(r'pic.\\S+', '',text) \n",
    "    text =  re.sub(r\"[^a-zA-Z+']\", ' ',text)             # only keeps characters\n",
    "    text = re.sub(r'\\s+[a-zA-Z]\\s+', ' ', text+' ')      # keep words with length>1 only\n",
    "    text = \"\".join([i for i in text if i not in string.punctuation])\n",
    "    words = nltk.tokenize.word_tokenize(text)\n",
    "    stopwords = nltk.corpus.stopwords.words('english')   # remove stopwords\n",
    "    text = \" \".join([i for i in words if i not in stopwords and len(i)>2])\n",
    "    text= re.sub(\"\\s[\\s]+\", \" \",text).strip()            # remove repeated/leading/trailing spaces\n",
    "    return text"
   ]
  },
  {
   "cell_type": "code",
   "execution_count": 134,
   "metadata": {
    "id": "iuolZhPDFIQz"
   },
   "outputs": [],
   "source": [
    "\n",
    "# Cleaning the text\n",
    "data['text'] = data['text'].apply(clean_text)"
   ]
  },
  {
   "cell_type": "code",
   "execution_count": 136,
   "metadata": {
    "colab": {
     "base_uri": "https://localhost:8080/",
     "height": 175
    },
    "id": "1kQ0hiQei397",
    "outputId": "a384ccab-2d11-4d2d-d822-bb0487586ebe"
   },
   "outputs": [
    {
     "name": "stdout",
     "output_type": "stream",
     "text": [
      "45000 <class 'pandas.core.frame.DataFrame'>\n"
     ]
    }
   ],
   "source": [
    "\n",
    "# shuffle the dataset \n",
    "from sklearn.utils import shuffle\n",
    "data = shuffle(data)\n",
    "data.reset_index(inplace=True, drop=True) \n",
    "data.head(4)\n",
    "print(len(data),type(data))"
   ]
  },
  {
   "cell_type": "markdown",
   "metadata": {},
   "source": [
    "# Adding weather category to dataset"
   ]
  },
  {
   "cell_type": "code",
   "execution_count": 137,
   "metadata": {},
   "outputs": [],
   "source": [
    "import os\n",
    "# Adding the weather related data to the initial dataframe\n",
    "for filename in os.listdir(\"weather\"):\n",
    "    with open(os.path.join(\"weather\", filename), 'r',encoding='utf-8') as f:\n",
    "        text = f.read()\n",
    "        entry = {'text':text,'category':'weather'}\n",
    "        data = data.append(entry, ignore_index = True)"
   ]
  },
  {
   "cell_type": "code",
   "execution_count": 149,
   "metadata": {},
   "outputs": [
    {
     "data": {
      "text/plain": [
       "45050"
      ]
     },
     "execution_count": 149,
     "metadata": {},
     "output_type": "execute_result"
    }
   ],
   "source": [
    "len(data)"
   ]
  },
  {
   "cell_type": "markdown",
   "metadata": {
    "id": "7BCK0wUGjSiy"
   },
   "source": [
    "# Splitting the data and creating dense vector data\n"
   ]
  },
  {
   "cell_type": "code",
   "execution_count": 150,
   "metadata": {
    "id": "etcDO6D_jKTU"
   },
   "outputs": [],
   "source": [
    "# X: Defines the descriptions \n",
    "X = data['text']\n",
    "label = LabelEncoder()\n",
    "# y: has the labels of the corresponding category\n",
    "y = label.fit_transform(data['category'])\n",
    "\n",
    "#split the train and test dataset\n",
    "corpus_train,corpus_test,y_train,y_test = train_test_split(X,y,test_size = 0.1,random_state=2)"
   ]
  },
  {
   "cell_type": "code",
   "execution_count": 151,
   "metadata": {
    "colab": {
     "base_uri": "https://localhost:8080/"
    },
    "id": "IPdux0injUxK",
    "outputId": "454caa9d-54e7-4638-da30-1e436004aaa8"
   },
   "outputs": [],
   "source": [
    "#Creating a Tfidf vectorizer object\n",
    "\n",
    "vecto =  TfidfVectorizer(stop_words='english',max_df = 0.99,min_df=10,\n",
    "                                   ngram_range=(1, 2),lowercase=True, max_features=5000)\n",
    "vecto = vecto.fit(corpus_train)\n",
    "\n",
    "# Converting sparse data to dense data\n",
    "X_train = vecto.transform(corpus_train).toarray()\n",
    "X_test = vecto.transform(corpus_test).toarray()\n"
   ]
  },
  {
   "cell_type": "markdown",
   "metadata": {},
   "source": [
    "# Ensemble Learning"
   ]
  },
  {
   "cell_type": "code",
   "execution_count": 152,
   "metadata": {},
   "outputs": [],
   "source": [
    "from sklearn.ensemble import VotingClassifier\n",
    "from sklearn.neural_network import MLPClassifier\n",
    "from sklearn.svm import SVC\n",
    "from sklearn.naive_bayes import MultinomialNB"
   ]
  },
  {
   "cell_type": "code",
   "execution_count": 153,
   "metadata": {},
   "outputs": [],
   "source": [
    "# Creating the supervised model objects and MultiLayerPerceptron model object\n",
    "svm = SVC(kernel='poly',degree=2)\n",
    "mlp = MLPClassifier(max_iter=1000,activation='relu',hidden_layer_sizes = (100,),early_stopping=True)\n",
    "mnb = MultinomialNB()"
   ]
  },
  {
   "cell_type": "code",
   "execution_count": 154,
   "metadata": {},
   "outputs": [
    {
     "data": {
      "text/plain": [
       "VotingClassifier(estimators=[('svm', SVC(degree=2, kernel='poly')),\n",
       "                             ('mnb', MultinomialNB()),\n",
       "                             ('mlp',\n",
       "                              MLPClassifier(early_stopping=True,\n",
       "                                            max_iter=1000))])"
      ]
     },
     "execution_count": 154,
     "metadata": {},
     "output_type": "execute_result"
    }
   ],
   "source": [
    "# Creating a ensemble learner classifier object\n",
    "\n",
    "voting = VotingClassifier(estimators= [('svm',svm),('mnb',mnb),('mlp',mlp)],voting='hard')\n",
    "voting.fit(X_train,y_train) # Usually this training takes atleast 6 horurs so reduce the training data if needed\n",
    "# voting.score(X_test,y_test)"
   ]
  },
  {
   "cell_type": "markdown",
   "metadata": {},
   "source": [
    "# Event prediction for new document"
   ]
  },
  {
   "cell_type": "code",
   "execution_count": 155,
   "metadata": {},
   "outputs": [],
   "source": [
    "new_doc = \"\"\"\n",
    "\"Be confident in your heritage. Be confident in your blackness,\" President Barack Obama told graduates and their families at Howard University's 2016 Commencement Ceremony. It was one of many moments in a speech that honored the achievements of black folks — many Howard alumni — and called on graduates to get and stay politically active. His speech was met with laughter, generous applause, and largely positive reviews. Paul Holston, editor-in-chief of Howard's student newspaper The Hilltop, wrote that Obama's address was \"strong, eloquent, and inspirational,\" and would \"go down as one of the most significant moments in Howard University's history.\"\n",
    "\n",
    "Where Does The 'Pull Up Your Pants' School Of Black Politics Come From?\n",
    "CODE SWITCH\n",
    "Where Does The 'Pull Up Your Pants' School Of Black Politics Come From?\n",
    "Howard students weren't the only ones cheering over the speech. Janell Ross at The Washington Post lauded Obama's call for \"empathy and [an] expanded moral imagination\" as one of the few surprising and thought-provoking messages that graduates will receive this season. On Twitter, Slate writer Jamelle Bouie called the speech \"a great mediation on democracy AND a celebration of black life.\" Mathew Rodriguez at Mic described Obama's speech as \"one of the best and blackest he's given.\"\n",
    "\n",
    "Melissa Harris-Perry, editor-at-large of Elle, wrote that Obama's speech was remarkable in its treatment of gender as well as race, and proved \"that he is our most black, feminist president to date\" by highlighting the genius of black women like Lorraine Hansberry, Harriet Tubman, Fannie Lou Hamer and Zora Neale Hurston:\n",
    "\n",
    "\"Once again, [Obama] put black women at the very center of the stories he told and the lessons he imparted. As he warmed up, he jokingly referred to 'Shonda Rhimes owning Thursday night' and 'Beyonce running the world.' They were casual references, not central themes of his talk, but even here he deployed two boss black women as representatives of black excellence and achievement.\"\n",
    "\n",
    "The tone surprised some African-Americans who had been critical of what they see as the president's habit of talking down to primarily black crowds. The last time Obama spoke at an HBCU's commencement was at Morehouse College in 2013, where he was criticized for promoting a finger-wagging brand of respectability politics with remarks like these:\n",
    "\n",
    "\"Just as Morehouse has taught you to expect more of yourselves, inspire those who look up to you to expect more of themselves. We know that too many young men in our community continue to make bad choices. And I have to say, growing up, I made quite a few myself. Sometimes I wrote off my own failings as just another example of the world trying to keep a black man down. I had a tendency sometimes to make excuses for me not doing the right thing. But one of the things that all of you have learned over the last four years is there's no longer any room for excuses.\"\n",
    "\n",
    "Ta-Nehisi Coates responded to that speech by calling out what he saw as the double standard Obama used in addressing African-Americans. In a piece called \"How the Obama Administration Talks to Black America,\" Coates wrote that the president acts like someone \"who sees holding African Americans to a standard of individual responsibility as part of his job. This is not a role Barack Obama undertakes with other communities.\"\n",
    "\n",
    "Some observers who were worried that the president might affect the same scolding posture at Howard were pleased, if not entirely won over. Michael P. Jeffries, over at The Boston Globe, said that the Howard speech was more earnest in its depiction of structural inequality:\n",
    "\n",
    "\"...noting that a black woman is only paid 66 cents for every $1 earned by an equally qualified white man, and that mass incarceration has exploded since [Obama's] college days. In one striking passage, he reminded the audience: 'We have cousins and uncles and brothers and sisters who we remember were just as smart and just as talented as we were, but somehow got ground down by structures that are unfair and unjust.' Rather than individual failings, Obama shifted responsibility away from black families and toward the institutions that produce black suffering.\"\n",
    "\n",
    "Still, Jeffries observes \"how much further [Obama] has to go\" to fairly depict race in America. In his speech, Obama praises Black Lives Matter activist Brittany Packnett as someone who broke with the orthodoxy of her movement to enact change. But, according to Jeffries:\n",
    "\n",
    "\"What Obama left out is that Packnett is not an anomaly among Black Lives Matter leadership. Protesters have interrupted campaign events for Hillary Clinton, Bernie Sanders, and Donald Trump, but activist DeRay McKesson certainly believes in voting: He ran for mayor of Baltimore. The Chicago-based Black Youth Project has protested mayor Rahm Emanuel and held rallies in the name of Rekia Boyd and other victims of police violence. The organization has also published research reports, and its directors have worked with several well established and likeminded groups, including the NAACP.\n",
    "\n",
    "So, in many respects, Black Lives Matter is already living out the charge put forth by the president.\"\n",
    "\n",
    "Clarence B. Jones, at HuffPost Black Voices, wrote that \"the content of what President Obama said, and the way in which he spoke it were engaging; at times, powerfully moving.\" But he agreed with Jeffries's sentiment that the president undersold the accomplishments of the BLM movement when he chastised young people for not turning out to vote in midterm elections:\n",
    "\n",
    "\"It is not enough to patronizingly lecture that 'the perfect' 'should not be the enemy of the good or the better.' He should have not just singled out Brittany Packnett, a leader in the Black Lives Matter Movement, for praise in meeting with him and other establishment political leaders. He should have said, flat out, like 'Straight Outta Compton,' that leaders of the Movement, like Dr. King earlier, had forced America's conscience to confront the reality of successive police shootings of black men, in several circumstances where the use of non-lethal force appeared to be an available option to effect an arrest.\n",
    "\n",
    "In effect, President Obama should have acknowledged that he AND ALL America owe a debt of gratitude to the courage and leadership of the Black Lives Matter movement in highlighting the apparent systemic racism in our criminal justice system when applied to African-Americans in several or our communities, nationwide.\"\n",
    "\n",
    "BLM activists themselves had some things to say about Obama's speech. DeRay McKesson tweeted his approval of the president's remarks, but also warned about oversimplifying the message:\n",
    "\n",
    "\"Obama's commencement speech at HowardU today was important, as we both reflected on the past in blackness and our future. Obama's speech was complicated, as he noted the role of compromise in the work of progress, while maintains a commitment to one's values. Obama also rightly noted that awareness is not the win, but is the initial work that creates space for later wins. [He] also noted the work of activists like [Brittany Packnett], noting that we will have to be intentional in how we change systems/structures. In many ways, this speech echoed themes he offered when [she and I] met with him a month ago. He is becoming more explicit re: discussing blackness.\"\n",
    "\n",
    "McKesson continued:\n",
    "\n",
    "\"We protest to change the world, not to continue protesting until the end of time. Awareness must lead to work focused on concrete solutions. Obama's focus on voting was not an indictment of the movement, of protest, or of organizing. Don't reduce his speech to this stale reading.\"\n",
    "\n",
    "Still, others weren't blown away by the speech. Maya Rhodan at Time magazine described Obama's Howard speech as another replica from the \"mold he often leans on in remarks to black audiences.\" She offered up the president's time-tested speech recipe: \"a nod to our nation's racial history, a pit-stop on his presidency, and a call to pay it forward.\"\n",
    "\n",
    "In Commencement Speech, Obama Advises Howard University Grads On Creating Change\n",
    "THE TWO-WAY\n",
    "In Commencement Speech, Obama Advises Howard University Grads On Creating Change\n",
    "Over at The Guardian, Steven W. Thrasher reflected that \"part of Obama's genius as our first black president is that he can provoke so many responses...even in the course of a single speech.\" But that genius is complicated. Thrasher was inspired by Obama's address until \"respectability politics started to creep in,\" and the president began urging the crowd to empathize with \"the refugee, the immigrant, the rural poor, the transgender person and yes, the middle-aged white guy who you may think has all the advantages, but over the last several decades has seen his world upended by economic and cultural and technological change and feels powerless to stop it.\" Here's more from Thrasher:\n",
    "\n",
    "\"Why did the nation's first black president feel the need to equate the transgender person who can't use the bathroom in North Carolina, and the unfairly maligned immigrant with that 'middle-aged white guy'?\n",
    "\n",
    "Who feels so threatened by the 'cultural' change of living under a black president and living under conditions a little more like those black Americans have endured for hundreds of years that he's likely voting for Donald Trump?\n",
    "\n",
    "Who isn't losing all of his white privilege, because he still has a black president telling black grads to get in his head?\n",
    "ABOUT THE DIGITAL COLLECTION\n",
    "The American Slavery Documents Collection contains an assortment of legal and personal documents related to slavery in the United States. Nearly all of the documents are singular and otherwise unrelated to the other, but as a composite, the collection brings to light the details of the lives and deaths of free and enslaved African Americans during the Antebellum and early Reconstruction Eras. The type of materials include bills of sale, manumission papers, emancipation notes, bonds, auction notices and other assorted items. The documents represent nearly all of the states of the American south including: North Carolina, Virginia, Alabama, Georgia, and Mississippi, but a few documents are from northern states like New York and New Jersey.\n",
    "\n",
    " Some materials and descriptions may include offensive content. More info\n",
    "\n",
    "ITEMS IN THIS DIGITAL COLLECTION (202)\n",
    "Thumbnail\n",
    "Bill of sale for one slave: Beth, 8 year old girl; sold by Lawrence Lancaster to Thomas Cook for 32, 10 shillings\n",
    "Thumbnail\n",
    "Bill of sale for an enslaved person, Leander, from N.C. Trowbridge to E.H. Simmons\n",
    "Thumbnail\n",
    "Bill of sale, Court of Common Plea, Court at Camden\n",
    "Thumbnail\n",
    "Bill of sale for one slave girl: 11 y.o., 32 pounds and 10 shillings, from Absalom Lancaster to Thomas Cook\n",
    "Thumbnail\n",
    "Bill of sale for one slave, from Aroh Currison to Thomas Cook, N.C.\n",
    "Thumbnail\n",
    "Bill of sale for three slaves: Toby, James, and Jacob, from Zachariah Flurry to James Prown, S.C.\n",
    "Browse all 202 Items »\n",
    "\n",
    "SOURCE COLLECTION\n",
    "This digital collection comprises selected materials from the following archival collection at David M. Rubenstein Rare Book & Manuscript Library:\n",
    "\n",
    "American slavery documents collection 1757-1924 and undated\n",
    "Collection #RL.11093 | 2.0 Linear Feet; 2 boxes; 1 oversize folder\n",
    "\n",
    "ABSTRACT\n",
    "Collection of manuscript items relating to American slavery assembled over a number of decades by the staff of the David M. Rubenstein Rare Book and Manuscript Library at Duke University. Collection contains items documenting the sales, escapes, and emancipations of enslaved people from colonial times through the Civil War, and to a lesser extent, materials relating to slavery in the United States dating from the post-emancipation period.\n",
    "\n",
    "Collection Guide »\n",
    "Panton, Jonathan (2020) \"Pro-Slavery Rhetoric in the Constitution,\" Res Publica -\n",
    "Journal of Undergraduate Research: Vol. 25\n",
    "Available at: https://digitalcommons.iwu.edu/respublica/vol25/iss1/9\n",
    "This Editorial is protected by copyright and/or related rights. It has been brought to you by Digital\n",
    "Commons @ IWU with permission from the rights-holder(s). You are free to use this material in any\n",
    "way that is permitted by the copyright and related rights legislation that applies to your use. For\n",
    "other uses you need to obtain permission from the rights-holder(s) directly, unless additional rights\n",
    "are indicated by a Creative Commons license in the record and/ or on the work itself. This material\n",
    "has been accepted for inclusion by editorial board of Res Publica at Illinois Wesleyan University. For\n",
    "more information, please contact digitalcommons@iwu.edu.\n",
    "©Copyright is owned by the author of this document.\n",
    "Pro-Slavery Rhetoric in the Constitution oric in the Constitution\n",
    "Abstract\n",
    "Prior to the Thirteenth Amendment, the United States Constitution did not merely allow slavery: the\n",
    "document protected slavery. At the time of the Declaration of Independence in 1776, the Continental\n",
    "Congress vigorously debated the “peculiar institution” of slavery. The lofty ideals of the Declaration\n",
    "proclaimed the “inalienable rights, including life, liberty, and the pursuit of happiness.” By the time the\n",
    "Constitution was adopted in 1789, the delegates all but abandoned such lofty goals to set forth an\n",
    "administrative guide for government. The Constitution was a pro-slavery document because of the ⅗\n",
    "clause and it enabled slavery. \n",
    "\"\"\""
   ]
  },
  {
   "cell_type": "markdown",
   "metadata": {
    "id": "0gdAyo-0j96D"
   },
   "source": [
    "## Predict process\n"
   ]
  },
  {
   "cell_type": "code",
   "execution_count": 171,
   "metadata": {
    "id": "HuDO6B25DNW1"
   },
   "outputs": [
    {
     "name": "stdout",
     "output_type": "stream",
     "text": [
      " The event category is :BLACK VOICES\n"
     ]
    }
   ],
   "source": [
    "doc_test = vecto.transform([new_doc]).toarray()\n",
    "\n",
    "return_pred = voting.predict(doc_test)\n",
    "\n",
    "print(' The event category is :' + label.inverse_transform(return_pred)[0]) #### Result of the prediction"
   ]
  },
  {
   "cell_type": "code",
   "execution_count": null,
   "metadata": {},
   "outputs": [],
   "source": []
  }
 ],
 "metadata": {
  "colab": {
   "collapsed_sections": [],
   "include_colab_link": true,
   "name": "AAI Event Extraction",
   "provenance": []
  },
  "kernelspec": {
   "display_name": "Python 3 (ipykernel)",
   "language": "python",
   "name": "python3"
  },
  "language_info": {
   "codemirror_mode": {
    "name": "ipython",
    "version": 3
   },
   "file_extension": ".py",
   "mimetype": "text/x-python",
   "name": "python",
   "nbconvert_exporter": "python",
   "pygments_lexer": "ipython3",
   "version": "3.9.0"
  }
 },
 "nbformat": 4,
 "nbformat_minor": 1
}
